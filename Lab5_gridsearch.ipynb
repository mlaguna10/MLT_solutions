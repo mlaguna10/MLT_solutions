{
  "nbformat": 4,
  "nbformat_minor": 0,
  "metadata": {
    "colab": {
      "name": "Lab5_gridsearch.ipynb",
      "provenance": [],
      "collapsed_sections": [],
      "include_colab_link": true
    },
    "kernelspec": {
      "name": "python3",
      "display_name": "Python 3"
    },
    "accelerator": "TPU"
  },
  "cells": [
    {
      "cell_type": "markdown",
      "metadata": {
        "id": "view-in-github",
        "colab_type": "text"
      },
      "source": [
        "<a href=\"https://colab.research.google.com/github/mlaguna10/MLT_solutions/blob/master/Lab5_gridsearch.ipynb\" target=\"_parent\"><img src=\"https://colab.research.google.com/assets/colab-badge.svg\" alt=\"Open In Colab\"/></a>"
      ]
    },
    {
      "cell_type": "markdown",
      "metadata": {
        "id": "OSfpUatGBGPF",
        "colab_type": "text"
      },
      "source": [
        "# Laboratorio 5 Machine Learning Techniques\n",
        "# Segundo Problema\n"
      ]
    },
    {
      "cell_type": "markdown",
      "metadata": {
        "id": "Enxg6ZrJBOVJ",
        "colab_type": "text"
      },
      "source": [
        "Ante la gran demanda de noticias que se generan hoy en día, el servicio público de radio y televisión Británica BBC desea realizar un sistema que le permita clasificar diferentes noticias para mostrarlas en su página web. Para ello, le ha brindado las noticias previamente clasificadas en cinco categorías. <br>\n",
        "\n",
        "La idea es realizar un clasificador Näive Bayes para la realización de este problema."
      ]
    },
    {
      "cell_type": "code",
      "metadata": {
        "id": "H14iykGD_rFA",
        "colab_type": "code",
        "colab": {
          "base_uri": "https://localhost:8080/",
          "height": 221
        },
        "outputId": "14c80d85-ad8e-4ea0-e8ad-9a2f9c5856d2"
      },
      "source": [
        "import requests\n",
        "f = requests.get(\"https://raw.githubusercontent.com/jcestevezc/Machine-Learning-Techniques/master/Laboratorio%204/Punto%202/README.TXT\")\n",
        "print(f.text)"
      ],
      "execution_count": 1,
      "outputs": [
        {
          "output_type": "stream",
          "text": [
            "Consists of 2225 documents from the BBC news website corresponding to stories in five topical areas from 2004-2005.\n",
            "Natural Classes: 5 (business, entertainment, politics, sport, tech)\n",
            "\n",
            "If you make use of the dataset, please consider citing the publication: \n",
            "- D. Greene and P. Cunningham. \"Practical Solutions to the Problem of Diagonal Dominance in Kernel Document Clustering\", Proc. ICML 2006.\n",
            "\n",
            "All rights, including copyright, in the content of the original articles are owned by the BBC.\n",
            "\n",
            "Contact Derek Greene <derek.greene@ucd.ie> for further information.\n",
            "http://mlg.ucd.ie/datasets/bbc.html\n",
            "\n",
            "\n"
          ],
          "name": "stdout"
        }
      ]
    },
    {
      "cell_type": "markdown",
      "metadata": {
        "id": "ztRgqiNiBriI",
        "colab_type": "text"
      },
      "source": [
        "# 0. Importando las librerias requeridas para el desarrollo del laboratorio\n",
        "\n",
        "Librerias que no vienen en Colab"
      ]
    },
    {
      "cell_type": "code",
      "metadata": {
        "id": "O6y1lpf1BHsN",
        "colab_type": "code",
        "colab": {
          "base_uri": "https://localhost:8080/",
          "height": 1000
        },
        "outputId": "12d0ee7a-f5ca-4767-d491-65ceb71d2498"
      },
      "source": [
        "!pip install https://github.com/pandas-profiling/pandas-profiling/archive/master.zip\n",
        "!pip install contractions\n",
        "import nltk\n",
        "nltk.download()"
      ],
      "execution_count": 2,
      "outputs": [
        {
          "output_type": "stream",
          "text": [
            "Collecting https://github.com/pandas-profiling/pandas-profiling/archive/master.zip\n",
            "  Using cached https://github.com/pandas-profiling/pandas-profiling/archive/master.zip\n",
            "Requirement already satisfied (use --upgrade to upgrade): pandas-profiling==2.9.0rc1 from https://github.com/pandas-profiling/pandas-profiling/archive/master.zip in /usr/local/lib/python3.6/dist-packages\n",
            "Requirement already satisfied: joblib in /usr/local/lib/python3.6/dist-packages (from pandas-profiling==2.9.0rc1) (0.16.0)\n",
            "Requirement already satisfied: scipy>=1.4.1 in /usr/local/lib/python3.6/dist-packages (from pandas-profiling==2.9.0rc1) (1.4.1)\n",
            "Requirement already satisfied: pandas!=1.0.0,!=1.0.1,!=1.0.2,>=0.25.3 in /usr/local/lib/python3.6/dist-packages (from pandas-profiling==2.9.0rc1) (1.0.5)\n",
            "Requirement already satisfied: matplotlib>=3.2.0 in /usr/local/lib/python3.6/dist-packages (from pandas-profiling==2.9.0rc1) (3.2.2)\n",
            "Requirement already satisfied: confuse>=1.0.0 in /usr/local/lib/python3.6/dist-packages (from pandas-profiling==2.9.0rc1) (1.3.0)\n",
            "Requirement already satisfied: jinja2>=2.11.1 in /usr/local/lib/python3.6/dist-packages (from pandas-profiling==2.9.0rc1) (2.11.2)\n",
            "Requirement already satisfied: visions[type_image_path]==0.4.4 in /usr/local/lib/python3.6/dist-packages (from pandas-profiling==2.9.0rc1) (0.4.4)\n",
            "Requirement already satisfied: numpy>=1.16.0 in /usr/local/lib/python3.6/dist-packages (from pandas-profiling==2.9.0rc1) (1.18.5)\n",
            "Requirement already satisfied: attrs>=19.3.0 in /usr/local/lib/python3.6/dist-packages (from pandas-profiling==2.9.0rc1) (19.3.0)\n",
            "Requirement already satisfied: htmlmin>=0.1.12 in /usr/local/lib/python3.6/dist-packages (from pandas-profiling==2.9.0rc1) (0.1.12)\n",
            "Requirement already satisfied: missingno>=0.4.2 in /usr/local/lib/python3.6/dist-packages (from pandas-profiling==2.9.0rc1) (0.4.2)\n",
            "Requirement already satisfied: phik>=0.9.10 in /usr/local/lib/python3.6/dist-packages (from pandas-profiling==2.9.0rc1) (0.10.0)\n",
            "Requirement already satisfied: tangled-up-in-unicode>=0.0.6 in /usr/local/lib/python3.6/dist-packages (from pandas-profiling==2.9.0rc1) (0.0.6)\n",
            "Requirement already satisfied: requests>=2.23.0 in /usr/local/lib/python3.6/dist-packages (from pandas-profiling==2.9.0rc1) (2.23.0)\n",
            "Requirement already satisfied: tqdm>=4.43.0 in /usr/local/lib/python3.6/dist-packages (from pandas-profiling==2.9.0rc1) (4.48.0)\n",
            "Requirement already satisfied: ipywidgets>=7.5.1 in /usr/local/lib/python3.6/dist-packages (from pandas-profiling==2.9.0rc1) (7.5.1)\n",
            "Requirement already satisfied: seaborn>=0.10.1 in /usr/local/lib/python3.6/dist-packages (from pandas-profiling==2.9.0rc1) (0.10.1)\n",
            "Requirement already satisfied: python-dateutil>=2.6.1 in /usr/local/lib/python3.6/dist-packages (from pandas!=1.0.0,!=1.0.1,!=1.0.2,>=0.25.3->pandas-profiling==2.9.0rc1) (2.8.1)\n",
            "Requirement already satisfied: pytz>=2017.2 in /usr/local/lib/python3.6/dist-packages (from pandas!=1.0.0,!=1.0.1,!=1.0.2,>=0.25.3->pandas-profiling==2.9.0rc1) (2018.9)\n",
            "Requirement already satisfied: pyparsing!=2.0.4,!=2.1.2,!=2.1.6,>=2.0.1 in /usr/local/lib/python3.6/dist-packages (from matplotlib>=3.2.0->pandas-profiling==2.9.0rc1) (2.4.7)\n",
            "Requirement already satisfied: cycler>=0.10 in /usr/local/lib/python3.6/dist-packages (from matplotlib>=3.2.0->pandas-profiling==2.9.0rc1) (0.10.0)\n",
            "Requirement already satisfied: kiwisolver>=1.0.1 in /usr/local/lib/python3.6/dist-packages (from matplotlib>=3.2.0->pandas-profiling==2.9.0rc1) (1.2.0)\n",
            "Requirement already satisfied: pyyaml in /usr/local/lib/python3.6/dist-packages (from confuse>=1.0.0->pandas-profiling==2.9.0rc1) (3.13)\n",
            "Requirement already satisfied: MarkupSafe>=0.23 in /usr/local/lib/python3.6/dist-packages (from jinja2>=2.11.1->pandas-profiling==2.9.0rc1) (1.1.1)\n",
            "Requirement already satisfied: networkx>=2.4 in /usr/local/lib/python3.6/dist-packages (from visions[type_image_path]==0.4.4->pandas-profiling==2.9.0rc1) (2.4)\n",
            "Requirement already satisfied: Pillow; extra == \"type_image_path\" in /usr/local/lib/python3.6/dist-packages (from visions[type_image_path]==0.4.4->pandas-profiling==2.9.0rc1) (7.0.0)\n",
            "Requirement already satisfied: imagehash; extra == \"type_image_path\" in /usr/local/lib/python3.6/dist-packages (from visions[type_image_path]==0.4.4->pandas-profiling==2.9.0rc1) (4.1.0)\n",
            "Requirement already satisfied: numba>=0.38.1 in /usr/local/lib/python3.6/dist-packages (from phik>=0.9.10->pandas-profiling==2.9.0rc1) (0.48.0)\n",
            "Requirement already satisfied: certifi>=2017.4.17 in /usr/local/lib/python3.6/dist-packages (from requests>=2.23.0->pandas-profiling==2.9.0rc1) (2020.6.20)\n",
            "Requirement already satisfied: idna<3,>=2.5 in /usr/local/lib/python3.6/dist-packages (from requests>=2.23.0->pandas-profiling==2.9.0rc1) (2.10)\n",
            "Requirement already satisfied: urllib3!=1.25.0,!=1.25.1,<1.26,>=1.21.1 in /usr/local/lib/python3.6/dist-packages (from requests>=2.23.0->pandas-profiling==2.9.0rc1) (1.24.3)\n",
            "Requirement already satisfied: chardet<4,>=3.0.2 in /usr/local/lib/python3.6/dist-packages (from requests>=2.23.0->pandas-profiling==2.9.0rc1) (3.0.4)\n",
            "Requirement already satisfied: nbformat>=4.2.0 in /usr/local/lib/python3.6/dist-packages (from ipywidgets>=7.5.1->pandas-profiling==2.9.0rc1) (5.0.7)\n",
            "Requirement already satisfied: ipython>=4.0.0; python_version >= \"3.3\" in /usr/local/lib/python3.6/dist-packages (from ipywidgets>=7.5.1->pandas-profiling==2.9.0rc1) (5.5.0)\n",
            "Requirement already satisfied: ipykernel>=4.5.1 in /usr/local/lib/python3.6/dist-packages (from ipywidgets>=7.5.1->pandas-profiling==2.9.0rc1) (4.10.1)\n",
            "Requirement already satisfied: widgetsnbextension~=3.5.0 in /usr/local/lib/python3.6/dist-packages (from ipywidgets>=7.5.1->pandas-profiling==2.9.0rc1) (3.5.1)\n",
            "Requirement already satisfied: traitlets>=4.3.1 in /usr/local/lib/python3.6/dist-packages (from ipywidgets>=7.5.1->pandas-profiling==2.9.0rc1) (4.3.3)\n",
            "Requirement already satisfied: six>=1.5 in /usr/local/lib/python3.6/dist-packages (from python-dateutil>=2.6.1->pandas!=1.0.0,!=1.0.1,!=1.0.2,>=0.25.3->pandas-profiling==2.9.0rc1) (1.15.0)\n",
            "Requirement already satisfied: decorator>=4.3.0 in /usr/local/lib/python3.6/dist-packages (from networkx>=2.4->visions[type_image_path]==0.4.4->pandas-profiling==2.9.0rc1) (4.4.2)\n",
            "Requirement already satisfied: PyWavelets in /usr/local/lib/python3.6/dist-packages (from imagehash; extra == \"type_image_path\"->visions[type_image_path]==0.4.4->pandas-profiling==2.9.0rc1) (1.1.1)\n",
            "Requirement already satisfied: setuptools in /usr/local/lib/python3.6/dist-packages (from numba>=0.38.1->phik>=0.9.10->pandas-profiling==2.9.0rc1) (49.1.0)\n",
            "Requirement already satisfied: llvmlite<0.32.0,>=0.31.0dev0 in /usr/local/lib/python3.6/dist-packages (from numba>=0.38.1->phik>=0.9.10->pandas-profiling==2.9.0rc1) (0.31.0)\n",
            "Requirement already satisfied: jsonschema!=2.5.0,>=2.4 in /usr/local/lib/python3.6/dist-packages (from nbformat>=4.2.0->ipywidgets>=7.5.1->pandas-profiling==2.9.0rc1) (2.6.0)\n",
            "Requirement already satisfied: jupyter-core in /usr/local/lib/python3.6/dist-packages (from nbformat>=4.2.0->ipywidgets>=7.5.1->pandas-profiling==2.9.0rc1) (4.6.3)\n",
            "Requirement already satisfied: ipython-genutils in /usr/local/lib/python3.6/dist-packages (from nbformat>=4.2.0->ipywidgets>=7.5.1->pandas-profiling==2.9.0rc1) (0.2.0)\n",
            "Requirement already satisfied: prompt-toolkit<2.0.0,>=1.0.4 in /usr/local/lib/python3.6/dist-packages (from ipython>=4.0.0; python_version >= \"3.3\"->ipywidgets>=7.5.1->pandas-profiling==2.9.0rc1) (1.0.18)\n",
            "Requirement already satisfied: pygments in /usr/local/lib/python3.6/dist-packages (from ipython>=4.0.0; python_version >= \"3.3\"->ipywidgets>=7.5.1->pandas-profiling==2.9.0rc1) (2.1.3)\n",
            "Requirement already satisfied: simplegeneric>0.8 in /usr/local/lib/python3.6/dist-packages (from ipython>=4.0.0; python_version >= \"3.3\"->ipywidgets>=7.5.1->pandas-profiling==2.9.0rc1) (0.8.1)\n",
            "Requirement already satisfied: pexpect; sys_platform != \"win32\" in /usr/local/lib/python3.6/dist-packages (from ipython>=4.0.0; python_version >= \"3.3\"->ipywidgets>=7.5.1->pandas-profiling==2.9.0rc1) (4.8.0)\n",
            "Requirement already satisfied: pickleshare in /usr/local/lib/python3.6/dist-packages (from ipython>=4.0.0; python_version >= \"3.3\"->ipywidgets>=7.5.1->pandas-profiling==2.9.0rc1) (0.7.5)\n",
            "Requirement already satisfied: tornado>=4.0 in /usr/local/lib/python3.6/dist-packages (from ipykernel>=4.5.1->ipywidgets>=7.5.1->pandas-profiling==2.9.0rc1) (4.5.3)\n",
            "Requirement already satisfied: jupyter-client in /usr/local/lib/python3.6/dist-packages (from ipykernel>=4.5.1->ipywidgets>=7.5.1->pandas-profiling==2.9.0rc1) (5.3.5)\n",
            "Requirement already satisfied: notebook>=4.4.1 in /usr/local/lib/python3.6/dist-packages (from widgetsnbextension~=3.5.0->ipywidgets>=7.5.1->pandas-profiling==2.9.0rc1) (5.2.2)\n",
            "Requirement already satisfied: wcwidth in /usr/local/lib/python3.6/dist-packages (from prompt-toolkit<2.0.0,>=1.0.4->ipython>=4.0.0; python_version >= \"3.3\"->ipywidgets>=7.5.1->pandas-profiling==2.9.0rc1) (0.2.5)\n",
            "Requirement already satisfied: ptyprocess>=0.5 in /usr/local/lib/python3.6/dist-packages (from pexpect; sys_platform != \"win32\"->ipython>=4.0.0; python_version >= \"3.3\"->ipywidgets>=7.5.1->pandas-profiling==2.9.0rc1) (0.6.0)\n",
            "Requirement already satisfied: pyzmq>=13 in /usr/local/lib/python3.6/dist-packages (from jupyter-client->ipykernel>=4.5.1->ipywidgets>=7.5.1->pandas-profiling==2.9.0rc1) (19.0.1)\n",
            "Requirement already satisfied: terminado>=0.3.3; sys_platform != \"win32\" in /usr/local/lib/python3.6/dist-packages (from notebook>=4.4.1->widgetsnbextension~=3.5.0->ipywidgets>=7.5.1->pandas-profiling==2.9.0rc1) (0.8.3)\n",
            "Requirement already satisfied: nbconvert in /usr/local/lib/python3.6/dist-packages (from notebook>=4.4.1->widgetsnbextension~=3.5.0->ipywidgets>=7.5.1->pandas-profiling==2.9.0rc1) (5.6.1)\n",
            "Requirement already satisfied: bleach in /usr/local/lib/python3.6/dist-packages (from nbconvert->notebook>=4.4.1->widgetsnbextension~=3.5.0->ipywidgets>=7.5.1->pandas-profiling==2.9.0rc1) (3.1.5)\n",
            "Requirement already satisfied: testpath in /usr/local/lib/python3.6/dist-packages (from nbconvert->notebook>=4.4.1->widgetsnbextension~=3.5.0->ipywidgets>=7.5.1->pandas-profiling==2.9.0rc1) (0.4.4)\n",
            "Requirement already satisfied: entrypoints>=0.2.2 in /usr/local/lib/python3.6/dist-packages (from nbconvert->notebook>=4.4.1->widgetsnbextension~=3.5.0->ipywidgets>=7.5.1->pandas-profiling==2.9.0rc1) (0.3)\n",
            "Requirement already satisfied: mistune<2,>=0.8.1 in /usr/local/lib/python3.6/dist-packages (from nbconvert->notebook>=4.4.1->widgetsnbextension~=3.5.0->ipywidgets>=7.5.1->pandas-profiling==2.9.0rc1) (0.8.4)\n",
            "Requirement already satisfied: pandocfilters>=1.4.1 in /usr/local/lib/python3.6/dist-packages (from nbconvert->notebook>=4.4.1->widgetsnbextension~=3.5.0->ipywidgets>=7.5.1->pandas-profiling==2.9.0rc1) (1.4.2)\n",
            "Requirement already satisfied: defusedxml in /usr/local/lib/python3.6/dist-packages (from nbconvert->notebook>=4.4.1->widgetsnbextension~=3.5.0->ipywidgets>=7.5.1->pandas-profiling==2.9.0rc1) (0.6.0)\n",
            "Requirement already satisfied: packaging in /usr/local/lib/python3.6/dist-packages (from bleach->nbconvert->notebook>=4.4.1->widgetsnbextension~=3.5.0->ipywidgets>=7.5.1->pandas-profiling==2.9.0rc1) (20.4)\n",
            "Requirement already satisfied: webencodings in /usr/local/lib/python3.6/dist-packages (from bleach->nbconvert->notebook>=4.4.1->widgetsnbextension~=3.5.0->ipywidgets>=7.5.1->pandas-profiling==2.9.0rc1) (0.5.1)\n",
            "Building wheels for collected packages: pandas-profiling\n",
            "  Building wheel for pandas-profiling (setup.py) ... \u001b[?25l\u001b[?25hdone\n",
            "  Created wheel for pandas-profiling: filename=pandas_profiling-2.9.0rc1-py2.py3-none-any.whl size=258106 sha256=e63a400de80b513b22126afb68a3de96fcbc878748fe48b17cbad0b1d9df18a1\n",
            "  Stored in directory: /tmp/pip-ephem-wheel-cache-m2ui3k9w/wheels/56/c2/dd/8d945b0443c35df7d5f62fa9e9ae105a2d8b286302b92e0109\n",
            "Successfully built pandas-profiling\n",
            "Requirement already satisfied: contractions in /usr/local/lib/python3.6/dist-packages (0.0.25)\n",
            "Requirement already satisfied: textsearch in /usr/local/lib/python3.6/dist-packages (from contractions) (0.0.17)\n",
            "Requirement already satisfied: pyahocorasick in /usr/local/lib/python3.6/dist-packages (from textsearch->contractions) (1.4.0)\n",
            "Requirement already satisfied: Unidecode in /usr/local/lib/python3.6/dist-packages (from textsearch->contractions) (1.1.1)\n",
            "NLTK Downloader\n",
            "---------------------------------------------------------------------------\n",
            "    d) Download   l) List    u) Update   c) Config   h) Help   q) Quit\n",
            "---------------------------------------------------------------------------\n",
            "Downloader> d\n",
            "\n",
            "Download which package (l=list; x=cancel)?\n",
            "  Identifier> all\n",
            "    Downloading collection 'all'\n",
            "       | \n",
            "       | Downloading package abc to /root/nltk_data...\n",
            "       |   Package abc is already up-to-date!\n",
            "       | Downloading package alpino to /root/nltk_data...\n",
            "       |   Package alpino is already up-to-date!\n",
            "       | Downloading package biocreative_ppi to /root/nltk_data...\n",
            "       |   Package biocreative_ppi is already up-to-date!\n",
            "       | Downloading package brown to /root/nltk_data...\n",
            "       |   Package brown is already up-to-date!\n",
            "       | Downloading package brown_tei to /root/nltk_data...\n",
            "       |   Package brown_tei is already up-to-date!\n",
            "       | Downloading package cess_cat to /root/nltk_data...\n",
            "       |   Package cess_cat is already up-to-date!\n",
            "       | Downloading package cess_esp to /root/nltk_data...\n",
            "       |   Package cess_esp is already up-to-date!\n",
            "       | Downloading package chat80 to /root/nltk_data...\n",
            "       |   Package chat80 is already up-to-date!\n",
            "       | Downloading package city_database to /root/nltk_data...\n",
            "       |   Package city_database is already up-to-date!\n",
            "       | Downloading package cmudict to /root/nltk_data...\n",
            "       |   Package cmudict is already up-to-date!\n",
            "       | Downloading package comparative_sentences to\n",
            "       |     /root/nltk_data...\n",
            "       |   Package comparative_sentences is already up-to-date!\n",
            "       | Downloading package comtrans to /root/nltk_data...\n",
            "       |   Package comtrans is already up-to-date!\n",
            "       | Downloading package conll2000 to /root/nltk_data...\n",
            "       |   Package conll2000 is already up-to-date!\n",
            "       | Downloading package conll2002 to /root/nltk_data...\n",
            "       |   Package conll2002 is already up-to-date!\n",
            "       | Downloading package conll2007 to /root/nltk_data...\n",
            "       |   Package conll2007 is already up-to-date!\n",
            "       | Downloading package crubadan to /root/nltk_data...\n",
            "       |   Package crubadan is already up-to-date!\n",
            "       | Downloading package dependency_treebank to /root/nltk_data...\n",
            "       |   Package dependency_treebank is already up-to-date!\n",
            "       | Downloading package dolch to /root/nltk_data...\n",
            "       |   Package dolch is already up-to-date!\n",
            "       | Downloading package europarl_raw to /root/nltk_data...\n",
            "       |   Package europarl_raw is already up-to-date!\n",
            "       | Downloading package floresta to /root/nltk_data...\n",
            "       |   Package floresta is already up-to-date!\n",
            "       | Downloading package framenet_v15 to /root/nltk_data...\n",
            "       |   Package framenet_v15 is already up-to-date!\n",
            "       | Downloading package framenet_v17 to /root/nltk_data...\n",
            "       |   Package framenet_v17 is already up-to-date!\n",
            "       | Downloading package gazetteers to /root/nltk_data...\n",
            "       |   Package gazetteers is already up-to-date!\n",
            "       | Downloading package genesis to /root/nltk_data...\n",
            "       |   Package genesis is already up-to-date!\n",
            "       | Downloading package gutenberg to /root/nltk_data...\n",
            "       |   Package gutenberg is already up-to-date!\n",
            "       | Downloading package ieer to /root/nltk_data...\n",
            "       |   Package ieer is already up-to-date!\n",
            "       | Downloading package inaugural to /root/nltk_data...\n",
            "       |   Package inaugural is already up-to-date!\n",
            "       | Downloading package indian to /root/nltk_data...\n",
            "       |   Package indian is already up-to-date!\n",
            "       | Downloading package jeita to /root/nltk_data...\n",
            "       |   Package jeita is already up-to-date!\n",
            "       | Downloading package kimmo to /root/nltk_data...\n",
            "       |   Package kimmo is already up-to-date!\n",
            "       | Downloading package knbc to /root/nltk_data...\n",
            "       |   Package knbc is already up-to-date!\n",
            "       | Downloading package lin_thesaurus to /root/nltk_data...\n",
            "       |   Package lin_thesaurus is already up-to-date!\n",
            "       | Downloading package mac_morpho to /root/nltk_data...\n",
            "       |   Package mac_morpho is already up-to-date!\n",
            "       | Downloading package machado to /root/nltk_data...\n",
            "       |   Package machado is already up-to-date!\n",
            "       | Downloading package masc_tagged to /root/nltk_data...\n",
            "       |   Package masc_tagged is already up-to-date!\n",
            "       | Downloading package moses_sample to /root/nltk_data...\n",
            "       |   Package moses_sample is already up-to-date!\n",
            "       | Downloading package movie_reviews to /root/nltk_data...\n",
            "       |   Package movie_reviews is already up-to-date!\n",
            "       | Downloading package names to /root/nltk_data...\n",
            "       |   Package names is already up-to-date!\n",
            "       | Downloading package nombank.1.0 to /root/nltk_data...\n",
            "       |   Package nombank.1.0 is already up-to-date!\n",
            "       | Downloading package nps_chat to /root/nltk_data...\n",
            "       |   Package nps_chat is already up-to-date!\n",
            "       | Downloading package omw to /root/nltk_data...\n",
            "       |   Package omw is already up-to-date!\n",
            "       | Downloading package opinion_lexicon to /root/nltk_data...\n",
            "       |   Package opinion_lexicon is already up-to-date!\n",
            "       | Downloading package paradigms to /root/nltk_data...\n",
            "       |   Package paradigms is already up-to-date!\n",
            "       | Downloading package pil to /root/nltk_data...\n",
            "       |   Package pil is already up-to-date!\n",
            "       | Downloading package pl196x to /root/nltk_data...\n",
            "       |   Package pl196x is already up-to-date!\n",
            "       | Downloading package ppattach to /root/nltk_data...\n",
            "       |   Package ppattach is already up-to-date!\n",
            "       | Downloading package problem_reports to /root/nltk_data...\n",
            "       |   Package problem_reports is already up-to-date!\n",
            "       | Downloading package propbank to /root/nltk_data...\n",
            "       |   Package propbank is already up-to-date!\n",
            "       | Downloading package ptb to /root/nltk_data...\n",
            "       |   Package ptb is already up-to-date!\n",
            "       | Downloading package product_reviews_1 to /root/nltk_data...\n",
            "       |   Package product_reviews_1 is already up-to-date!\n",
            "       | Downloading package product_reviews_2 to /root/nltk_data...\n",
            "       |   Package product_reviews_2 is already up-to-date!\n",
            "       | Downloading package pros_cons to /root/nltk_data...\n",
            "       |   Package pros_cons is already up-to-date!\n",
            "       | Downloading package qc to /root/nltk_data...\n",
            "       |   Package qc is already up-to-date!\n",
            "       | Downloading package reuters to /root/nltk_data...\n",
            "       |   Package reuters is already up-to-date!\n",
            "       | Downloading package rte to /root/nltk_data...\n",
            "       |   Package rte is already up-to-date!\n",
            "       | Downloading package semcor to /root/nltk_data...\n",
            "       |   Package semcor is already up-to-date!\n",
            "       | Downloading package senseval to /root/nltk_data...\n",
            "       |   Package senseval is already up-to-date!\n",
            "       | Downloading package sentiwordnet to /root/nltk_data...\n",
            "       |   Package sentiwordnet is already up-to-date!\n",
            "       | Downloading package sentence_polarity to /root/nltk_data...\n",
            "       |   Package sentence_polarity is already up-to-date!\n",
            "       | Downloading package shakespeare to /root/nltk_data...\n",
            "       |   Package shakespeare is already up-to-date!\n",
            "       | Downloading package sinica_treebank to /root/nltk_data...\n",
            "       |   Package sinica_treebank is already up-to-date!\n",
            "       | Downloading package smultron to /root/nltk_data...\n",
            "       |   Package smultron is already up-to-date!\n",
            "       | Downloading package state_union to /root/nltk_data...\n",
            "       |   Package state_union is already up-to-date!\n",
            "       | Downloading package stopwords to /root/nltk_data...\n",
            "       |   Package stopwords is already up-to-date!\n",
            "       | Downloading package subjectivity to /root/nltk_data...\n",
            "       |   Package subjectivity is already up-to-date!\n",
            "       | Downloading package swadesh to /root/nltk_data...\n",
            "       |   Package swadesh is already up-to-date!\n",
            "       | Downloading package switchboard to /root/nltk_data...\n",
            "       |   Package switchboard is already up-to-date!\n",
            "       | Downloading package timit to /root/nltk_data...\n",
            "       |   Package timit is already up-to-date!\n",
            "       | Downloading package toolbox to /root/nltk_data...\n",
            "       |   Package toolbox is already up-to-date!\n",
            "       | Downloading package treebank to /root/nltk_data...\n",
            "       |   Package treebank is already up-to-date!\n",
            "       | Downloading package twitter_samples to /root/nltk_data...\n",
            "       |   Package twitter_samples is already up-to-date!\n",
            "       | Downloading package udhr to /root/nltk_data...\n",
            "       |   Package udhr is already up-to-date!\n",
            "       | Downloading package udhr2 to /root/nltk_data...\n",
            "       |   Package udhr2 is already up-to-date!\n",
            "       | Downloading package unicode_samples to /root/nltk_data...\n",
            "       |   Package unicode_samples is already up-to-date!\n",
            "       | Downloading package universal_treebanks_v20 to\n",
            "       |     /root/nltk_data...\n",
            "       |   Package universal_treebanks_v20 is already up-to-date!\n",
            "       | Downloading package verbnet to /root/nltk_data...\n",
            "       |   Package verbnet is already up-to-date!\n",
            "       | Downloading package verbnet3 to /root/nltk_data...\n",
            "       |   Package verbnet3 is already up-to-date!\n",
            "       | Downloading package webtext to /root/nltk_data...\n",
            "       |   Package webtext is already up-to-date!\n",
            "       | Downloading package wordnet to /root/nltk_data...\n",
            "       |   Package wordnet is already up-to-date!\n",
            "       | Downloading package wordnet_ic to /root/nltk_data...\n",
            "       |   Package wordnet_ic is already up-to-date!\n",
            "       | Downloading package words to /root/nltk_data...\n",
            "       |   Package words is already up-to-date!\n",
            "       | Downloading package ycoe to /root/nltk_data...\n",
            "       |   Package ycoe is already up-to-date!\n",
            "       | Downloading package rslp to /root/nltk_data...\n",
            "       |   Package rslp is already up-to-date!\n",
            "       | Downloading package maxent_treebank_pos_tagger to\n",
            "       |     /root/nltk_data...\n",
            "       |   Package maxent_treebank_pos_tagger is already up-to-date!\n",
            "       | Downloading package universal_tagset to /root/nltk_data...\n",
            "       |   Package universal_tagset is already up-to-date!\n",
            "       | Downloading package maxent_ne_chunker to /root/nltk_data...\n",
            "       |   Package maxent_ne_chunker is already up-to-date!\n",
            "       | Downloading package punkt to /root/nltk_data...\n",
            "       |   Package punkt is already up-to-date!\n",
            "       | Downloading package book_grammars to /root/nltk_data...\n",
            "       |   Package book_grammars is already up-to-date!\n",
            "       | Downloading package sample_grammars to /root/nltk_data...\n",
            "       |   Package sample_grammars is already up-to-date!\n",
            "       | Downloading package spanish_grammars to /root/nltk_data...\n",
            "       |   Package spanish_grammars is already up-to-date!\n",
            "       | Downloading package basque_grammars to /root/nltk_data...\n",
            "       |   Package basque_grammars is already up-to-date!\n",
            "       | Downloading package large_grammars to /root/nltk_data...\n",
            "       |   Package large_grammars is already up-to-date!\n",
            "       | Downloading package tagsets to /root/nltk_data...\n",
            "       |   Package tagsets is already up-to-date!\n",
            "       | Downloading package snowball_data to /root/nltk_data...\n",
            "       |   Package snowball_data is already up-to-date!\n",
            "       | Downloading package bllip_wsj_no_aux to /root/nltk_data...\n",
            "       |   Package bllip_wsj_no_aux is already up-to-date!\n",
            "       | Downloading package word2vec_sample to /root/nltk_data...\n",
            "       |   Package word2vec_sample is already up-to-date!\n",
            "       | Downloading package panlex_swadesh to /root/nltk_data...\n",
            "       |   Package panlex_swadesh is already up-to-date!\n",
            "       | Downloading package mte_teip5 to /root/nltk_data...\n",
            "       |   Package mte_teip5 is already up-to-date!\n",
            "       | Downloading package averaged_perceptron_tagger to\n",
            "       |     /root/nltk_data...\n",
            "       |   Package averaged_perceptron_tagger is already up-to-date!\n",
            "       | Downloading package averaged_perceptron_tagger_ru to\n",
            "       |     /root/nltk_data...\n",
            "       |   Package averaged_perceptron_tagger_ru is already up-to-\n",
            "       |       date!\n",
            "       | Downloading package perluniprops to /root/nltk_data...\n",
            "       |   Package perluniprops is already up-to-date!\n",
            "       | Downloading package nonbreaking_prefixes to\n",
            "       |     /root/nltk_data...\n",
            "       |   Package nonbreaking_prefixes is already up-to-date!\n",
            "       | Downloading package vader_lexicon to /root/nltk_data...\n",
            "       |   Package vader_lexicon is already up-to-date!\n",
            "       | Downloading package porter_test to /root/nltk_data...\n",
            "       |   Package porter_test is already up-to-date!\n",
            "       | Downloading package wmt15_eval to /root/nltk_data...\n",
            "       |   Package wmt15_eval is already up-to-date!\n",
            "       | Downloading package mwa_ppdb to /root/nltk_data...\n",
            "       |   Package mwa_ppdb is already up-to-date!\n",
            "       | \n",
            "     Done downloading collection all\n",
            "\n",
            "---------------------------------------------------------------------------\n",
            "    d) Download   l) List    u) Update   c) Config   h) Help   q) Quit\n",
            "---------------------------------------------------------------------------\n",
            "Downloader> q\n"
          ],
          "name": "stdout"
        },
        {
          "output_type": "execute_result",
          "data": {
            "text/plain": [
              "True"
            ]
          },
          "metadata": {
            "tags": []
          },
          "execution_count": 2
        }
      ]
    },
    {
      "cell_type": "code",
      "metadata": {
        "id": "RxhBVLxwCvO9",
        "colab_type": "code",
        "colab": {
          "base_uri": "https://localhost:8080/",
          "height": 71
        },
        "outputId": "64e235fe-6aef-42fe-968d-e5e96e2acf9f"
      },
      "source": [
        "import pandas as pd\n",
        "import numpy as np\n",
        "import sys\n",
        "from pandas_profiling import ProfileReport\n",
        "\n",
        "import re, string, unicodedata\n",
        "import contractions\n",
        "import inflect\n",
        "from nltk import word_tokenize, sent_tokenize\n",
        "from nltk.corpus import stopwords\n",
        "from nltk.stem import LancasterStemmer, WordNetLemmatizer\n",
        "\n",
        "from sklearn.model_selection import train_test_split,GridSearchCV\n",
        "from sklearn.feature_extraction.text import TfidfVectorizer, CountVectorizer, HashingVectorizer\n",
        "from sklearn.pipeline import Pipeline, FeatureUnion\n",
        "from sklearn.svm import SVC\n",
        "from sklearn.ensemble import BaggingClassifier, RandomForestClassifier, AdaBoostClassifier\n",
        "from sklearn.naive_bayes import BernoulliNB\n",
        "from sklearn.metrics import classification_report, confusion_matrix, plot_precision_recall_curve\n",
        "\n",
        "import tensorflow as tf\n",
        "from tensorflow.keras.datasets import reuters\n",
        "from tensorflow.keras.models import Sequential\n",
        "from tensorflow.keras.layers import Dense, Dropout, Activation\n",
        "from tensorflow.keras.preprocessing.text import Tokenizer\n",
        "from tensorflow.keras.callbacks import ModelCheckpoint, EarlyStopping\n",
        "\n",
        "import matplotlib.pyplot as plt"
      ],
      "execution_count": 1,
      "outputs": [
        {
          "output_type": "stream",
          "text": [
            "/usr/local/lib/python3.6/dist-packages/statsmodels/tools/_testing.py:19: FutureWarning: pandas.util.testing is deprecated. Use the functions in the public API at pandas.testing instead.\n",
            "  import pandas.util.testing as tm\n"
          ],
          "name": "stderr"
        }
      ]
    },
    {
      "cell_type": "markdown",
      "metadata": {
        "id": "GbNCEOSMEgP-",
        "colab_type": "text"
      },
      "source": [
        "# 1. Perfilamiento y entendimiento de los datos\n",
        "\n",
        "### Lectura de los datos\n",
        "Primero, se leen los datos y se visualizan que se hayan leido correctamente."
      ]
    },
    {
      "cell_type": "markdown",
      "metadata": {
        "id": "uWaE6fyPEp25",
        "colab_type": "text"
      },
      "source": [
        "*Perfilamiento para Business*"
      ]
    },
    {
      "cell_type": "code",
      "metadata": {
        "id": "hDLfvKdYEcBD",
        "colab_type": "code",
        "colab": {
          "base_uri": "https://localhost:8080/",
          "height": 51
        },
        "outputId": "1ff34532-30c1-43be-d329-04e9846c5ea7"
      },
      "source": [
        "%%time \n",
        "\n",
        "for i in range(1,511):\n",
        "  number = f'{i:03}'\n",
        "\n",
        "  str1='https://raw.githubusercontent.com/jcestevezc/Machine-Learning-Techniques/master/Laboratorio%204/Punto%202/Noticias%20BBC/business/'\n",
        "  str2='.txt'\n",
        "  read_file=\"\"\n",
        "\n",
        "  try:\n",
        "    read_file= pd.read_csv(f\"{str1}{number}{str2}\", delimiter='\\n')\n",
        "    read_file.to_csv ('result.csv', index=None ,mode='a', header=False)\n",
        "  except:\n",
        "    pass"
      ],
      "execution_count": 4,
      "outputs": [
        {
          "output_type": "stream",
          "text": [
            "CPU times: user 2.66 s, sys: 274 ms, total: 2.93 s\n",
            "Wall time: 43.7 s\n"
          ],
          "name": "stdout"
        }
      ]
    },
    {
      "cell_type": "code",
      "metadata": {
        "id": "8UEy1vSfFiwN",
        "colab_type": "code",
        "colab": {
          "base_uri": "https://localhost:8080/",
          "height": 204
        },
        "outputId": "0bceaf89-a7a9-415c-bfda-bd3e06d614dd"
      },
      "source": [
        "col_Names=[\"Message\", \"Type\"]\n",
        "CSV_Business= pd.read_csv(\"result.csv\",names=col_Names)\n",
        "CSV_Business['Type'] = 'business'\n",
        "CSV_Business.head()"
      ],
      "execution_count": 2,
      "outputs": [
        {
          "output_type": "execute_result",
          "data": {
            "text/html": [
              "<div>\n",
              "<style scoped>\n",
              "    .dataframe tbody tr th:only-of-type {\n",
              "        vertical-align: middle;\n",
              "    }\n",
              "\n",
              "    .dataframe tbody tr th {\n",
              "        vertical-align: top;\n",
              "    }\n",
              "\n",
              "    .dataframe thead th {\n",
              "        text-align: right;\n",
              "    }\n",
              "</style>\n",
              "<table border=\"1\" class=\"dataframe\">\n",
              "  <thead>\n",
              "    <tr style=\"text-align: right;\">\n",
              "      <th></th>\n",
              "      <th>Message</th>\n",
              "      <th>Type</th>\n",
              "    </tr>\n",
              "  </thead>\n",
              "  <tbody>\n",
              "    <tr>\n",
              "      <th>0</th>\n",
              "      <td>Quarterly profits at US media giant TimeWarner...</td>\n",
              "      <td>business</td>\n",
              "    </tr>\n",
              "    <tr>\n",
              "      <th>1</th>\n",
              "      <td>The firm, which is now one of the biggest inve...</td>\n",
              "      <td>business</td>\n",
              "    </tr>\n",
              "    <tr>\n",
              "      <th>2</th>\n",
              "      <td>Time Warner said on Friday that it now owns 8%...</td>\n",
              "      <td>business</td>\n",
              "    </tr>\n",
              "    <tr>\n",
              "      <th>3</th>\n",
              "      <td>Time Warner's fourth quarter profits were slig...</td>\n",
              "      <td>business</td>\n",
              "    </tr>\n",
              "    <tr>\n",
              "      <th>4</th>\n",
              "      <td>TimeWarner is to restate its accounts as part ...</td>\n",
              "      <td>business</td>\n",
              "    </tr>\n",
              "  </tbody>\n",
              "</table>\n",
              "</div>"
            ],
            "text/plain": [
              "                                             Message      Type\n",
              "0  Quarterly profits at US media giant TimeWarner...  business\n",
              "1  The firm, which is now one of the biggest inve...  business\n",
              "2  Time Warner said on Friday that it now owns 8%...  business\n",
              "3  Time Warner's fourth quarter profits were slig...  business\n",
              "4  TimeWarner is to restate its accounts as part ...  business"
            ]
          },
          "metadata": {
            "tags": []
          },
          "execution_count": 2
        }
      ]
    },
    {
      "cell_type": "markdown",
      "metadata": {
        "id": "4O5Sx2OxNywO",
        "colab_type": "text"
      },
      "source": [
        "*Perfilamiento para Entertainment*"
      ]
    },
    {
      "cell_type": "code",
      "metadata": {
        "id": "5-8GKweuFzg2",
        "colab_type": "code",
        "colab": {
          "base_uri": "https://localhost:8080/",
          "height": 51
        },
        "outputId": "ccd5ba3e-125f-46e1-fc57-15ba2aa085e2"
      },
      "source": [
        "%%time \n",
        "for i in range(1,387):\n",
        "  number = f'{i:03}'\n",
        "  #number = '001'\n",
        "\n",
        "  str1='https://raw.githubusercontent.com/ramirovargas/Machine-Learning-Techniques/master/Laboratorio%204/Punto%202/Noticias%20BBC/entertainment/'\n",
        "  str2='.txt'\n",
        "  readfile=\"\"\n",
        "\n",
        "  try:\n",
        "    read_file= pd.read_csv(f\"{str1}{number}{str2}\", delimiter='\\t')\n",
        "    read_file.to_csv ('resultE.csv', index=None ,mode='a', header=False)\n",
        "  except:\n",
        "    pass"
      ],
      "execution_count": 6,
      "outputs": [
        {
          "output_type": "stream",
          "text": [
            "CPU times: user 2.14 s, sys: 242 ms, total: 2.38 s\n",
            "Wall time: 1min 1s\n"
          ],
          "name": "stdout"
        }
      ]
    },
    {
      "cell_type": "code",
      "metadata": {
        "id": "LCQqhlptOCT_",
        "colab_type": "code",
        "colab": {
          "base_uri": "https://localhost:8080/",
          "height": 204
        },
        "outputId": "565c89c3-b0c5-450e-87a2-3b3230d986eb"
      },
      "source": [
        "CSV_Entertainment= pd.read_csv(\"resultE.csv\",names=col_Names)\n",
        "CSV_Entertainment['Type'] = 'entertainment'\n",
        "CSV_Entertainment.head()"
      ],
      "execution_count": 3,
      "outputs": [
        {
          "output_type": "execute_result",
          "data": {
            "text/html": [
              "<div>\n",
              "<style scoped>\n",
              "    .dataframe tbody tr th:only-of-type {\n",
              "        vertical-align: middle;\n",
              "    }\n",
              "\n",
              "    .dataframe tbody tr th {\n",
              "        vertical-align: top;\n",
              "    }\n",
              "\n",
              "    .dataframe thead th {\n",
              "        text-align: right;\n",
              "    }\n",
              "</style>\n",
              "<table border=\"1\" class=\"dataframe\">\n",
              "  <thead>\n",
              "    <tr style=\"text-align: right;\">\n",
              "      <th></th>\n",
              "      <th>Message</th>\n",
              "      <th>Type</th>\n",
              "    </tr>\n",
              "  </thead>\n",
              "  <tbody>\n",
              "    <tr>\n",
              "      <th>0</th>\n",
              "      <td>A Christmas tree that can receive text message...</td>\n",
              "      <td>entertainment</td>\n",
              "    </tr>\n",
              "    <tr>\n",
              "      <th>1</th>\n",
              "      <td>The spruce has an antenna which can receive Bl...</td>\n",
              "      <td>entertainment</td>\n",
              "    </tr>\n",
              "    <tr>\n",
              "      <th>2</th>\n",
              "      <td>The plain green Norway spruce is displayed in ...</td>\n",
              "      <td>entertainment</td>\n",
              "    </tr>\n",
              "    <tr>\n",
              "      <th>3</th>\n",
              "      <td>French musician Jean-Michel Jarre is to perfor...</td>\n",
              "      <td>entertainment</td>\n",
              "    </tr>\n",
              "    <tr>\n",
              "      <th>4</th>\n",
              "      <td>Denmark is holding a three-day celebration of ...</td>\n",
              "      <td>entertainment</td>\n",
              "    </tr>\n",
              "  </tbody>\n",
              "</table>\n",
              "</div>"
            ],
            "text/plain": [
              "                                             Message           Type\n",
              "0  A Christmas tree that can receive text message...  entertainment\n",
              "1  The spruce has an antenna which can receive Bl...  entertainment\n",
              "2  The plain green Norway spruce is displayed in ...  entertainment\n",
              "3  French musician Jean-Michel Jarre is to perfor...  entertainment\n",
              "4  Denmark is holding a three-day celebration of ...  entertainment"
            ]
          },
          "metadata": {
            "tags": []
          },
          "execution_count": 3
        }
      ]
    },
    {
      "cell_type": "markdown",
      "metadata": {
        "id": "oM4isCOWOcKD",
        "colab_type": "text"
      },
      "source": [
        "*Perfilamiento para Politics*"
      ]
    },
    {
      "cell_type": "code",
      "metadata": {
        "id": "Xg7bOoKNOXg2",
        "colab_type": "code",
        "colab": {
          "base_uri": "https://localhost:8080/",
          "height": 51
        },
        "outputId": "f602131c-7c94-49cf-f855-14617c7618d5"
      },
      "source": [
        "%%time \n",
        "for i in range(1,418):\n",
        "  number = f'{i:03}'\n",
        "  #number = '001'\n",
        "\n",
        "  str1='https://raw.githubusercontent.com/ramirovargas/Machine-Learning-Techniques/master/Laboratorio%204/Punto%202/Noticias%20BBC/politics/'\n",
        "  str2='.txt'\n",
        "  readfile=\"\"\n",
        "\n",
        "  try:\n",
        "    read_file= pd.read_csv(f\"{str1}{number}{str2}\", delimiter='\\t')\n",
        "    read_file.to_csv ('resultP.csv', index=None ,mode='a', header=False)\n",
        "  except:\n",
        "    pass\n"
      ],
      "execution_count": 8,
      "outputs": [
        {
          "output_type": "stream",
          "text": [
            "CPU times: user 2.16 s, sys: 240 ms, total: 2.4 s\n",
            "Wall time: 1min 4s\n"
          ],
          "name": "stdout"
        }
      ]
    },
    {
      "cell_type": "code",
      "metadata": {
        "id": "ecq1U05kOsv4",
        "colab_type": "code",
        "colab": {
          "base_uri": "https://localhost:8080/",
          "height": 204
        },
        "outputId": "3463ee02-65fb-4003-83c6-56141894fbbb"
      },
      "source": [
        "CSV_Politics= pd.read_csv(\"resultP.csv\",names=col_Names)\n",
        "CSV_Politics['Type'] = 'politics'\n",
        "CSV_Politics.head()"
      ],
      "execution_count": 4,
      "outputs": [
        {
          "output_type": "execute_result",
          "data": {
            "text/html": [
              "<div>\n",
              "<style scoped>\n",
              "    .dataframe tbody tr th:only-of-type {\n",
              "        vertical-align: middle;\n",
              "    }\n",
              "\n",
              "    .dataframe tbody tr th {\n",
              "        vertical-align: top;\n",
              "    }\n",
              "\n",
              "    .dataframe thead th {\n",
              "        text-align: right;\n",
              "    }\n",
              "</style>\n",
              "<table border=\"1\" class=\"dataframe\">\n",
              "  <thead>\n",
              "    <tr style=\"text-align: right;\">\n",
              "      <th></th>\n",
              "      <th>Message</th>\n",
              "      <th>Type</th>\n",
              "    </tr>\n",
              "  </thead>\n",
              "  <tbody>\n",
              "    <tr>\n",
              "      <th>0</th>\n",
              "      <td>Maternity pay for new mothers is to rise by £1...</td>\n",
              "      <td>politics</td>\n",
              "    </tr>\n",
              "    <tr>\n",
              "      <th>1</th>\n",
              "      <td>It would mean paid leave would be increased to...</td>\n",
              "      <td>politics</td>\n",
              "    </tr>\n",
              "    <tr>\n",
              "      <th>2</th>\n",
              "      <td>Ms Hewitt said: \"We have already doubled the l...</td>\n",
              "      <td>politics</td>\n",
              "    </tr>\n",
              "    <tr>\n",
              "      <th>3</th>\n",
              "      <td>She said the Conservatives would announce thei...</td>\n",
              "      <td>politics</td>\n",
              "    </tr>\n",
              "    <tr>\n",
              "      <th>4</th>\n",
              "      <td>Ms Hewitt also stressed the plans would be pai...</td>\n",
              "      <td>politics</td>\n",
              "    </tr>\n",
              "  </tbody>\n",
              "</table>\n",
              "</div>"
            ],
            "text/plain": [
              "                                             Message      Type\n",
              "0  Maternity pay for new mothers is to rise by £1...  politics\n",
              "1  It would mean paid leave would be increased to...  politics\n",
              "2  Ms Hewitt said: \"We have already doubled the l...  politics\n",
              "3  She said the Conservatives would announce thei...  politics\n",
              "4  Ms Hewitt also stressed the plans would be pai...  politics"
            ]
          },
          "metadata": {
            "tags": []
          },
          "execution_count": 4
        }
      ]
    },
    {
      "cell_type": "markdown",
      "metadata": {
        "id": "3fIJARISPWFs",
        "colab_type": "text"
      },
      "source": [
        "*Perfilamiento para Sports*"
      ]
    },
    {
      "cell_type": "code",
      "metadata": {
        "id": "gsPT_ONMPSsn",
        "colab_type": "code",
        "colab": {
          "base_uri": "https://localhost:8080/",
          "height": 51
        },
        "outputId": "edd9fe7b-3274-44f1-b820-6d1234af8e53"
      },
      "source": [
        "%%time \n",
        "for i in range(1,512):\n",
        "  number = f'{i:03}'\n",
        "  #number = '001'\n",
        "\n",
        "  str1='https://raw.githubusercontent.com/ramirovargas/Machine-Learning-Techniques/master/Laboratorio%204/Punto%202/Noticias%20BBC/sport/'\n",
        "  str2='.txt'\n",
        "  readfile=\"\"\n",
        "\n",
        "  try:\n",
        "    read_file= pd.read_csv(f\"{str1}{number}{str2}\", delimiter='\\t')\n",
        "    read_file.to_csv ('resultS.csv', index=None ,mode='a', header=False)\n",
        "  except:\n",
        "    pass\n"
      ],
      "execution_count": 10,
      "outputs": [
        {
          "output_type": "stream",
          "text": [
            "CPU times: user 2.69 s, sys: 281 ms, total: 2.97 s\n",
            "Wall time: 1min 20s\n"
          ],
          "name": "stdout"
        }
      ]
    },
    {
      "cell_type": "code",
      "metadata": {
        "id": "KBNkXjFJPr5E",
        "colab_type": "code",
        "colab": {
          "base_uri": "https://localhost:8080/",
          "height": 204
        },
        "outputId": "4d19e7aa-c497-47aa-8b65-4eeb4cad0c6b"
      },
      "source": [
        "CSV_Sport= pd.read_csv(\"resultS.csv\",names=col_Names)\n",
        "CSV_Sport['Type'] = 'sport'\n",
        "CSV_Sport.head()"
      ],
      "execution_count": 5,
      "outputs": [
        {
          "output_type": "execute_result",
          "data": {
            "text/html": [
              "<div>\n",
              "<style scoped>\n",
              "    .dataframe tbody tr th:only-of-type {\n",
              "        vertical-align: middle;\n",
              "    }\n",
              "\n",
              "    .dataframe tbody tr th {\n",
              "        vertical-align: top;\n",
              "    }\n",
              "\n",
              "    .dataframe thead th {\n",
              "        text-align: right;\n",
              "    }\n",
              "</style>\n",
              "<table border=\"1\" class=\"dataframe\">\n",
              "  <thead>\n",
              "    <tr style=\"text-align: right;\">\n",
              "      <th></th>\n",
              "      <th>Message</th>\n",
              "      <th>Type</th>\n",
              "    </tr>\n",
              "  </thead>\n",
              "  <tbody>\n",
              "    <tr>\n",
              "      <th>0</th>\n",
              "      <td>British hurdler Sarah Claxton is confident she...</td>\n",
              "      <td>sport</td>\n",
              "    </tr>\n",
              "    <tr>\n",
              "      <th>1</th>\n",
              "      <td>The 25-year-old has already smashed the Britis...</td>\n",
              "      <td>sport</td>\n",
              "    </tr>\n",
              "    <tr>\n",
              "      <th>2</th>\n",
              "      <td>For the first time, Claxton has only been prep...</td>\n",
              "      <td>sport</td>\n",
              "    </tr>\n",
              "    <tr>\n",
              "      <th>3</th>\n",
              "      <td>Sonia O'Sullivan has indicated that she would ...</td>\n",
              "      <td>sport</td>\n",
              "    </tr>\n",
              "    <tr>\n",
              "      <th>4</th>\n",
              "      <td>Athletics Ireland have hinted that the 35-year...</td>\n",
              "      <td>sport</td>\n",
              "    </tr>\n",
              "  </tbody>\n",
              "</table>\n",
              "</div>"
            ],
            "text/plain": [
              "                                             Message   Type\n",
              "0  British hurdler Sarah Claxton is confident she...  sport\n",
              "1  The 25-year-old has already smashed the Britis...  sport\n",
              "2  For the first time, Claxton has only been prep...  sport\n",
              "3  Sonia O'Sullivan has indicated that she would ...  sport\n",
              "4  Athletics Ireland have hinted that the 35-year...  sport"
            ]
          },
          "metadata": {
            "tags": []
          },
          "execution_count": 5
        }
      ]
    },
    {
      "cell_type": "markdown",
      "metadata": {
        "id": "mK4vS7ZoQI83",
        "colab_type": "text"
      },
      "source": [
        "*Perfilamiento para Tech*"
      ]
    },
    {
      "cell_type": "code",
      "metadata": {
        "id": "y6sPrqr_P-mU",
        "colab_type": "code",
        "colab": {
          "base_uri": "https://localhost:8080/",
          "height": 51
        },
        "outputId": "7d3fbb02-0910-42c0-e0cf-30da901015c7"
      },
      "source": [
        "%%time \n",
        "for i in range(1,402):\n",
        "  number = f'{i:03}'\n",
        "  #number = '001'\n",
        "\n",
        "  str1='https://raw.githubusercontent.com/ramirovargas/Machine-Learning-Techniques/master/Laboratorio%204/Punto%202/Noticias%20BBC/tech/'\n",
        "  str2='.txt'\n",
        "  readfile=\"\"\n",
        "\n",
        "  try:\n",
        "    read_file= pd.read_csv(f\"{str1}{number}{str2}\", delimiter='\\t')\n",
        "    read_file.to_csv ('resultT.csv', index=None ,mode='a', header=False)\n",
        "  except:\n",
        "    pass\n"
      ],
      "execution_count": 12,
      "outputs": [
        {
          "output_type": "stream",
          "text": [
            "CPU times: user 2.13 s, sys: 195 ms, total: 2.33 s\n",
            "Wall time: 1min 4s\n"
          ],
          "name": "stdout"
        }
      ]
    },
    {
      "cell_type": "code",
      "metadata": {
        "id": "kEwqU1jcQSJX",
        "colab_type": "code",
        "colab": {
          "base_uri": "https://localhost:8080/",
          "height": 204
        },
        "outputId": "9214ff8d-131e-4c26-874c-128c5d61fe31"
      },
      "source": [
        "CSV_Tech= pd.read_csv(\"resultT.csv\",names=col_Names)\n",
        "CSV_Tech['Type'] = 'tech'\n",
        "CSV_Tech.head()"
      ],
      "execution_count": 6,
      "outputs": [
        {
          "output_type": "execute_result",
          "data": {
            "text/html": [
              "<div>\n",
              "<style scoped>\n",
              "    .dataframe tbody tr th:only-of-type {\n",
              "        vertical-align: middle;\n",
              "    }\n",
              "\n",
              "    .dataframe tbody tr th {\n",
              "        vertical-align: top;\n",
              "    }\n",
              "\n",
              "    .dataframe thead th {\n",
              "        text-align: right;\n",
              "    }\n",
              "</style>\n",
              "<table border=\"1\" class=\"dataframe\">\n",
              "  <thead>\n",
              "    <tr style=\"text-align: right;\">\n",
              "      <th></th>\n",
              "      <th>Message</th>\n",
              "      <th>Type</th>\n",
              "    </tr>\n",
              "  </thead>\n",
              "  <tbody>\n",
              "    <tr>\n",
              "      <th>0</th>\n",
              "      <td>The Kyrgyz Republic, a small, mountainous stat...</td>\n",
              "      <td>tech</td>\n",
              "    </tr>\n",
              "    <tr>\n",
              "      <th>1</th>\n",
              "      <td>This new technology is causing both worries an...</td>\n",
              "      <td>tech</td>\n",
              "    </tr>\n",
              "    <tr>\n",
              "      <th>2</th>\n",
              "      <td>The Kyrgyz Republic is seen by many experts as...</td>\n",
              "      <td>tech</td>\n",
              "    </tr>\n",
              "    <tr>\n",
              "      <th>3</th>\n",
              "      <td>The actual technology behind the ink is not th...</td>\n",
              "      <td>tech</td>\n",
              "    </tr>\n",
              "    <tr>\n",
              "      <th>4</th>\n",
              "      <td>However, the presence of ultraviolet light (of...</td>\n",
              "      <td>tech</td>\n",
              "    </tr>\n",
              "  </tbody>\n",
              "</table>\n",
              "</div>"
            ],
            "text/plain": [
              "                                             Message  Type\n",
              "0  The Kyrgyz Republic, a small, mountainous stat...  tech\n",
              "1  This new technology is causing both worries an...  tech\n",
              "2  The Kyrgyz Republic is seen by many experts as...  tech\n",
              "3  The actual technology behind the ink is not th...  tech\n",
              "4  However, the presence of ultraviolet light (of...  tech"
            ]
          },
          "metadata": {
            "tags": []
          },
          "execution_count": 6
        }
      ]
    },
    {
      "cell_type": "markdown",
      "metadata": {
        "id": "SB4H4MmuQW9C",
        "colab_type": "text"
      },
      "source": [
        "Union de la categorias"
      ]
    },
    {
      "cell_type": "code",
      "metadata": {
        "id": "qeCc4HoUQXlE",
        "colab_type": "code",
        "colab": {
          "base_uri": "https://localhost:8080/",
          "height": 419
        },
        "outputId": "a637e7ff-0f11-4764-ad9f-c0cf2f1900c5"
      },
      "source": [
        "df = pd.concat([CSV_Business, CSV_Entertainment, CSV_Politics,CSV_Sport,CSV_Tech])\n",
        "CSV_Business, CSV_Entertainment, CSV_Politics,CSV_Sport,CSV_Tech = None, None, None,None,None\n",
        "df"
      ],
      "execution_count": 7,
      "outputs": [
        {
          "output_type": "execute_result",
          "data": {
            "text/html": [
              "<div>\n",
              "<style scoped>\n",
              "    .dataframe tbody tr th:only-of-type {\n",
              "        vertical-align: middle;\n",
              "    }\n",
              "\n",
              "    .dataframe tbody tr th {\n",
              "        vertical-align: top;\n",
              "    }\n",
              "\n",
              "    .dataframe thead th {\n",
              "        text-align: right;\n",
              "    }\n",
              "</style>\n",
              "<table border=\"1\" class=\"dataframe\">\n",
              "  <thead>\n",
              "    <tr style=\"text-align: right;\">\n",
              "      <th></th>\n",
              "      <th>Message</th>\n",
              "      <th>Type</th>\n",
              "    </tr>\n",
              "  </thead>\n",
              "  <tbody>\n",
              "    <tr>\n",
              "      <th>0</th>\n",
              "      <td>Quarterly profits at US media giant TimeWarner...</td>\n",
              "      <td>business</td>\n",
              "    </tr>\n",
              "    <tr>\n",
              "      <th>1</th>\n",
              "      <td>The firm, which is now one of the biggest inve...</td>\n",
              "      <td>business</td>\n",
              "    </tr>\n",
              "    <tr>\n",
              "      <th>2</th>\n",
              "      <td>Time Warner said on Friday that it now owns 8%...</td>\n",
              "      <td>business</td>\n",
              "    </tr>\n",
              "    <tr>\n",
              "      <th>3</th>\n",
              "      <td>Time Warner's fourth quarter profits were slig...</td>\n",
              "      <td>business</td>\n",
              "    </tr>\n",
              "    <tr>\n",
              "      <th>4</th>\n",
              "      <td>TimeWarner is to restate its accounts as part ...</td>\n",
              "      <td>business</td>\n",
              "    </tr>\n",
              "    <tr>\n",
              "      <th>...</th>\n",
              "      <td>...</td>\n",
              "      <td>...</td>\n",
              "    </tr>\n",
              "    <tr>\n",
              "      <th>2161</th>\n",
              "      <td>I bought the US version of World of Warcraft w...</td>\n",
              "      <td>tech</td>\n",
              "    </tr>\n",
              "    <tr>\n",
              "      <th>2162</th>\n",
              "      <td>Having played MMORPG games for some years I ag...</td>\n",
              "      <td>tech</td>\n",
              "    </tr>\n",
              "    <tr>\n",
              "      <th>2163</th>\n",
              "      <td>Unless there is undeniable medical proof that ...</td>\n",
              "      <td>tech</td>\n",
              "    </tr>\n",
              "    <tr>\n",
              "      <th>2164</th>\n",
              "      <td>These people are pathetic. They need to get of...</td>\n",
              "      <td>tech</td>\n",
              "    </tr>\n",
              "    <tr>\n",
              "      <th>2165</th>\n",
              "      <td>24hours, when i was a kid at school and i was ...</td>\n",
              "      <td>tech</td>\n",
              "    </tr>\n",
              "  </tbody>\n",
              "</table>\n",
              "<p>12090 rows × 2 columns</p>\n",
              "</div>"
            ],
            "text/plain": [
              "                                                Message      Type\n",
              "0     Quarterly profits at US media giant TimeWarner...  business\n",
              "1     The firm, which is now one of the biggest inve...  business\n",
              "2     Time Warner said on Friday that it now owns 8%...  business\n",
              "3     Time Warner's fourth quarter profits were slig...  business\n",
              "4     TimeWarner is to restate its accounts as part ...  business\n",
              "...                                                 ...       ...\n",
              "2161  I bought the US version of World of Warcraft w...      tech\n",
              "2162  Having played MMORPG games for some years I ag...      tech\n",
              "2163  Unless there is undeniable medical proof that ...      tech\n",
              "2164  These people are pathetic. They need to get of...      tech\n",
              "2165  24hours, when i was a kid at school and i was ...      tech\n",
              "\n",
              "[12090 rows x 2 columns]"
            ]
          },
          "metadata": {
            "tags": []
          },
          "execution_count": 7
        }
      ]
    },
    {
      "cell_type": "markdown",
      "metadata": {
        "id": "W_kbRMluTP_z",
        "colab_type": "text"
      },
      "source": [
        "#### Entendimiento de los Datos\n",
        "\n",
        "Para entender los mensajes, se realizan 'estadísticas descriptivas' para poder obtener un análisis de los textos."
      ]
    },
    {
      "cell_type": "code",
      "metadata": {
        "id": "xDi2E5zZQpAt",
        "colab_type": "code",
        "colab": {}
      },
      "source": [
        "textos = df.copy()\n",
        "textos['Conteo'] = [len(x) for x in textos['Message']]\n",
        "textos['Moda'] = [max(set(x.split(' ')), key = x.split(' ').count) for x in textos['Message']]\n",
        "textos['Max'] = [[max([len(x) for x in i.split(' ')])][0] for i in textos['Message']]\n",
        "textos['Min'] = [[min([len(x) for x in i.split(' ')])][0] for i in textos['Message']]"
      ],
      "execution_count": null,
      "outputs": []
    },
    {
      "cell_type": "code",
      "metadata": {
        "id": "_QxDsNzqTXbU",
        "colab_type": "code",
        "colab": {}
      },
      "source": [
        "ProfileReport(textos)"
      ],
      "execution_count": null,
      "outputs": []
    },
    {
      "cell_type": "markdown",
      "metadata": {
        "id": "-ze1dae3WyRo",
        "colab_type": "text"
      },
      "source": [
        "### Análisis\n",
        "\n",
        "*  Se observa un patron del estilo periodistico en algunos reportes en donde las misma frase se repite a pesar de ser de categorias diferentes.\n",
        "*  Las palabras mas repetidas \"the\" and \"of\" son comunes entre las diferentes categorias, éstas no generarn mucho valor al momento de clasificar\n",
        "*  Entre palabras y frases se notan pocos \"Slangs\" o palabras coloquiales, al tratarse de una narrativa periodistica lo cual favorece al momento del análisis.\n",
        "*  A pesar de haber abreviaturas o palabras propias la libreria reconoce las palabras y nombres comunes."
      ]
    },
    {
      "cell_type": "markdown",
      "metadata": {
        "id": "bAJVGJ56T0WN",
        "colab_type": "text"
      },
      "source": [
        "# 2. Preparación de datos"
      ]
    },
    {
      "cell_type": "markdown",
      "metadata": {
        "id": "8_qnPk7LUBGf",
        "colab_type": "text"
      },
      "source": [
        "Para poder realizar el pre-procesamiento de los datos, es recomendable pasar por tres etapas:\n",
        "* Eliminación del Ruido.\n",
        "* Tokenización.\n",
        "* Normalización."
      ]
    },
    {
      "cell_type": "markdown",
      "metadata": {
        "id": "rhfuJBrfUNSG",
        "colab_type": "text"
      },
      "source": [
        "#### **3.1 Eliminación del Ruido**\n",
        "La eliminación del ruido se utiliza para dejar el archivo en texto plano, sobre todo cuando vienen de diferentes fuentes como HTML, Twitter, XML, entre otros. También para eliminar caracteres especiales y pasar todo a minúscula."
      ]
    },
    {
      "cell_type": "code",
      "metadata": {
        "id": "4HDDjl4-TaGF",
        "colab_type": "code",
        "colab": {}
      },
      "source": [
        "def remove_non_ascii(words):\n",
        "    \"\"\"Remove non-ASCII characters from list of tokenized words\"\"\"\n",
        "    new_words = []\n",
        "    for word in words:\n",
        "        new_word = unicodedata.normalize('NFKD', word).encode('ascii', 'ignore').decode('utf-8', 'ignore')\n",
        "        new_words.append(new_word)\n",
        "    return new_words\n",
        "\n",
        "def to_lowercase(words):\n",
        "    \"\"\"Convert all characters to lowercase from list of tokenized words\"\"\"\n",
        "    new_words = []\n",
        "    for word in words:\n",
        "        new_word = word.lower()\n",
        "        new_words.append(new_word)\n",
        "    return new_words\n",
        "\n",
        "def remove_punctuation(words):\n",
        "    \"\"\"Remove punctuation from list of tokenized words\"\"\"\n",
        "    new_words = []\n",
        "    for word in words:\n",
        "        new_word = re.sub(r'[^\\w\\s]', '', word)\n",
        "        if new_word != '':\n",
        "            new_words.append(new_word)\n",
        "    return new_words\n",
        "\n",
        "def replace_numbers(words):\n",
        "    \"\"\"Replace all interger occurrences in list of tokenized words with textual representation\"\"\"\n",
        "    p = inflect.engine()\n",
        "    new_words = []\n",
        "    for word in words:\n",
        "        if word.isdigit():\n",
        "            new_word = p.number_to_words(word)\n",
        "            new_words.append(new_word)\n",
        "        else:\n",
        "            new_words.append(word)\n",
        "    return new_words\n",
        "\n",
        "def remove_stopwords(words):\n",
        "    \"\"\"Remove stop words from list of tokenized words\"\"\"\n",
        "    new_words = []\n",
        "    for word in words:\n",
        "        if word not in stopwords.words('english'):\n",
        "            new_words.append(word)\n",
        "    return new_words\n",
        "\n",
        "def preproccesing(words):\n",
        "    words = to_lowercase(words)\n",
        "    words = replace_numbers(words)\n",
        "    words = remove_punctuation(words)\n",
        "    words = remove_non_ascii(words)\n",
        "    words = remove_stopwords(words)\n",
        "    return words"
      ],
      "execution_count": 8,
      "outputs": []
    },
    {
      "cell_type": "markdown",
      "metadata": {
        "id": "8Uvw7gOoUZaw",
        "colab_type": "text"
      },
      "source": [
        "#### **3.2 Tokenización**\n",
        "La tokenización permite dividir frases u oraciones en palabras. Con el fin de desglozar las palabras correctamente para el posterior análisis. Pero primero, se realiza una corrección de las contracciones que pueden estar presentes en los textos. "
      ]
    },
    {
      "cell_type": "code",
      "metadata": {
        "id": "xDIhPsSpUVMm",
        "colab_type": "code",
        "colab": {}
      },
      "source": [
        "df['Message'] = df['Message'].apply(contractions.fix) #Aplica la corrección de las contracciones"
      ],
      "execution_count": 9,
      "outputs": []
    },
    {
      "cell_type": "code",
      "metadata": {
        "id": "pPygTpWkUcXt",
        "colab_type": "code",
        "colab": {
          "base_uri": "https://localhost:8080/",
          "height": 204
        },
        "outputId": "27935b94-dcef-4028-d59f-280524be2963"
      },
      "source": [
        "df['words'] = df['Message'].apply(word_tokenize)\n",
        "df['words'] = df['words'].apply(preproccesing) #Aplica la eliminación del ruido\n",
        "df.head()"
      ],
      "execution_count": 10,
      "outputs": [
        {
          "output_type": "execute_result",
          "data": {
            "text/html": [
              "<div>\n",
              "<style scoped>\n",
              "    .dataframe tbody tr th:only-of-type {\n",
              "        vertical-align: middle;\n",
              "    }\n",
              "\n",
              "    .dataframe tbody tr th {\n",
              "        vertical-align: top;\n",
              "    }\n",
              "\n",
              "    .dataframe thead th {\n",
              "        text-align: right;\n",
              "    }\n",
              "</style>\n",
              "<table border=\"1\" class=\"dataframe\">\n",
              "  <thead>\n",
              "    <tr style=\"text-align: right;\">\n",
              "      <th></th>\n",
              "      <th>Message</th>\n",
              "      <th>Type</th>\n",
              "      <th>words</th>\n",
              "    </tr>\n",
              "  </thead>\n",
              "  <tbody>\n",
              "    <tr>\n",
              "      <th>0</th>\n",
              "      <td>Quarterly profits at US media giant TimeWarner...</td>\n",
              "      <td>business</td>\n",
              "      <td>[quarterly, profits, us, media, giant, timewar...</td>\n",
              "    </tr>\n",
              "    <tr>\n",
              "      <th>1</th>\n",
              "      <td>The firm, which is now one of the biggest inve...</td>\n",
              "      <td>business</td>\n",
              "      <td>[firm, one, biggest, investors, google, benefi...</td>\n",
              "    </tr>\n",
              "    <tr>\n",
              "      <th>2</th>\n",
              "      <td>Time Warner said on Friday that it now owns 8%...</td>\n",
              "      <td>business</td>\n",
              "      <td>[time, warner, said, friday, owns, eight, sear...</td>\n",
              "    </tr>\n",
              "    <tr>\n",
              "      <th>3</th>\n",
              "      <td>Time Warner's fourth quarter profits were slig...</td>\n",
              "      <td>business</td>\n",
              "      <td>[time, warner, fourth, quarter, profits, sligh...</td>\n",
              "    </tr>\n",
              "    <tr>\n",
              "      <th>4</th>\n",
              "      <td>TimeWarner is to restate its accounts as part ...</td>\n",
              "      <td>business</td>\n",
              "      <td>[timewarner, restate, accounts, part, efforts,...</td>\n",
              "    </tr>\n",
              "  </tbody>\n",
              "</table>\n",
              "</div>"
            ],
            "text/plain": [
              "                                             Message  ...                                              words\n",
              "0  Quarterly profits at US media giant TimeWarner...  ...  [quarterly, profits, us, media, giant, timewar...\n",
              "1  The firm, which is now one of the biggest inve...  ...  [firm, one, biggest, investors, google, benefi...\n",
              "2  Time Warner said on Friday that it now owns 8%...  ...  [time, warner, said, friday, owns, eight, sear...\n",
              "3  Time Warner's fourth quarter profits were slig...  ...  [time, warner, fourth, quarter, profits, sligh...\n",
              "4  TimeWarner is to restate its accounts as part ...  ...  [timewarner, restate, accounts, part, efforts,...\n",
              "\n",
              "[5 rows x 3 columns]"
            ]
          },
          "metadata": {
            "tags": []
          },
          "execution_count": 10
        }
      ]
    },
    {
      "cell_type": "markdown",
      "metadata": {
        "id": "e59hkSetU9HH",
        "colab_type": "text"
      },
      "source": [
        "#### **Normalización**\n",
        "Para la normalización de los datos se realiza una eliminación de prefijos y sufijos, además de realizar una lemmatización de los verbos."
      ]
    },
    {
      "cell_type": "code",
      "metadata": {
        "id": "llVEhzF_Uh7G",
        "colab_type": "code",
        "colab": {}
      },
      "source": [
        "def stem_words(words):\n",
        "    \"\"\"Stem words in list of tokenized words\"\"\"\n",
        "    stemmer = LancasterStemmer()\n",
        "    stems = []\n",
        "    for word in words:\n",
        "        stem = stemmer.stem(word)\n",
        "        stems.append(stem)\n",
        "    return stems\n",
        "\n",
        "def lemmatize_verbs(words):\n",
        "    \"\"\"Lemmatize verbs in list of tokenized words\"\"\"\n",
        "    lemmatizer = WordNetLemmatizer()\n",
        "    lemmas = []\n",
        "    for word in words:\n",
        "        lemma = lemmatizer.lemmatize(word, pos='v')\n",
        "        lemmas.append(lemma)\n",
        "    return lemmas\n",
        "\n",
        "def stem_and_lemmatize(words):\n",
        "    stems = stem_words(words)\n",
        "    lemmas = lemmatize_verbs(words)\n",
        "    return stems + lemmas"
      ],
      "execution_count": 11,
      "outputs": []
    },
    {
      "cell_type": "code",
      "metadata": {
        "id": "KoixQD2uVgvG",
        "colab_type": "code",
        "colab": {
          "base_uri": "https://localhost:8080/",
          "height": 51
        },
        "outputId": "034cd06f-1e7d-4420-b76d-88d792b64a3c"
      },
      "source": [
        "%%time \n",
        "df['words'] = df['words'].apply(stem_and_lemmatize) #Aplica lematización y Eliminación de Prefijos y Sufijos.\n",
        "df.head()"
      ],
      "execution_count": 12,
      "outputs": [
        {
          "output_type": "stream",
          "text": [
            "CPU times: user 14.2 s, sys: 191 ms, total: 14.4 s\n",
            "Wall time: 14.4 s\n"
          ],
          "name": "stdout"
        }
      ]
    },
    {
      "cell_type": "markdown",
      "metadata": {
        "id": "JYDc3nauXnMq",
        "colab_type": "text"
      },
      "source": [
        "##### **3.4 Selección de campos**\n",
        "\n",
        "Primero, se separa la variable predictora y los textos que se van a utilizar."
      ]
    },
    {
      "cell_type": "code",
      "metadata": {
        "id": "TsgCsWZLVmE9",
        "colab_type": "code",
        "colab": {
          "base_uri": "https://localhost:8080/",
          "height": 419
        },
        "outputId": "c0b868c3-ac75-4761-af23-ba01a18bd26d"
      },
      "source": [
        "df['words'] = df['words'].apply(lambda x: ' '.join(map(str, x)))\n",
        "df"
      ],
      "execution_count": 13,
      "outputs": [
        {
          "output_type": "execute_result",
          "data": {
            "text/html": [
              "<div>\n",
              "<style scoped>\n",
              "    .dataframe tbody tr th:only-of-type {\n",
              "        vertical-align: middle;\n",
              "    }\n",
              "\n",
              "    .dataframe tbody tr th {\n",
              "        vertical-align: top;\n",
              "    }\n",
              "\n",
              "    .dataframe thead th {\n",
              "        text-align: right;\n",
              "    }\n",
              "</style>\n",
              "<table border=\"1\" class=\"dataframe\">\n",
              "  <thead>\n",
              "    <tr style=\"text-align: right;\">\n",
              "      <th></th>\n",
              "      <th>Message</th>\n",
              "      <th>Type</th>\n",
              "      <th>words</th>\n",
              "    </tr>\n",
              "  </thead>\n",
              "  <tbody>\n",
              "    <tr>\n",
              "      <th>0</th>\n",
              "      <td>Quarterly profits at US media giant TimeWarner...</td>\n",
              "      <td>business</td>\n",
              "      <td>quart profit us med giant timewarn jump sevent...</td>\n",
              "    </tr>\n",
              "    <tr>\n",
              "      <th>1</th>\n",
              "      <td>The firm, which is now one of the biggest inve...</td>\n",
              "      <td>business</td>\n",
              "      <td>firm on biggest invest googl benefit sal highs...</td>\n",
              "    </tr>\n",
              "    <tr>\n",
              "      <th>2</th>\n",
              "      <td>Time Warner said on Friday that it now owns 8%...</td>\n",
              "      <td>business</td>\n",
              "      <td>tim warn said friday own eight searchengin goo...</td>\n",
              "    </tr>\n",
              "    <tr>\n",
              "      <th>3</th>\n",
              "      <td>Time Warner's fourth quarter profits were slig...</td>\n",
              "      <td>business</td>\n",
              "      <td>tim warn four quart profit slight bet analyst ...</td>\n",
              "    </tr>\n",
              "    <tr>\n",
              "      <th>4</th>\n",
              "      <td>TimeWarner is to restate its accounts as part ...</td>\n",
              "      <td>business</td>\n",
              "      <td>timewarn rest account part effort resolv inqui...</td>\n",
              "    </tr>\n",
              "    <tr>\n",
              "      <th>...</th>\n",
              "      <td>...</td>\n",
              "      <td>...</td>\n",
              "      <td>...</td>\n",
              "    </tr>\n",
              "    <tr>\n",
              "      <th>2161</th>\n",
              "      <td>I bought the US version of World of Warcraft w...</td>\n",
              "      <td>tech</td>\n",
              "      <td>bought us vert world warcraft cam longest peri...</td>\n",
              "    </tr>\n",
              "    <tr>\n",
              "      <th>2162</th>\n",
              "      <td>Having played MMORPG games for some years I ag...</td>\n",
              "      <td>tech</td>\n",
              "      <td>play mmorpg gam year agr typ gam lif suck conc...</td>\n",
              "    </tr>\n",
              "    <tr>\n",
              "      <th>2163</th>\n",
              "      <td>Unless there is undeniable medical proof that ...</td>\n",
              "      <td>tech</td>\n",
              "      <td>unless undeny med proof star comput screens ho...</td>\n",
              "    </tr>\n",
              "    <tr>\n",
              "      <th>2164</th>\n",
              "      <td>These people are pathetic. They need to get of...</td>\n",
              "      <td>tech</td>\n",
              "      <td>peopl pathet nee get machin not world swift ov...</td>\n",
              "    </tr>\n",
              "    <tr>\n",
              "      <th>2165</th>\n",
              "      <td>24hours, when i was a kid at school and i was ...</td>\n",
              "      <td>tech</td>\n",
              "      <td>24hours kid school half term ultim onlin gam a...</td>\n",
              "    </tr>\n",
              "  </tbody>\n",
              "</table>\n",
              "<p>12090 rows × 3 columns</p>\n",
              "</div>"
            ],
            "text/plain": [
              "                                                Message  ...                                              words\n",
              "0     Quarterly profits at US media giant TimeWarner...  ...  quart profit us med giant timewarn jump sevent...\n",
              "1     The firm, which is now one of the biggest inve...  ...  firm on biggest invest googl benefit sal highs...\n",
              "2     Time Warner said on Friday that it now owns 8%...  ...  tim warn said friday own eight searchengin goo...\n",
              "3     Time Warner's fourth quarter profits were slig...  ...  tim warn four quart profit slight bet analyst ...\n",
              "4     TimeWarner is to restate its accounts as part ...  ...  timewarn rest account part effort resolv inqui...\n",
              "...                                                 ...  ...                                                ...\n",
              "2161  I bought the US version of World of Warcraft w...  ...  bought us vert world warcraft cam longest peri...\n",
              "2162  Having played MMORPG games for some years I ag...  ...  play mmorpg gam year agr typ gam lif suck conc...\n",
              "2163  Unless there is undeniable medical proof that ...  ...  unless undeny med proof star comput screens ho...\n",
              "2164  These people are pathetic. They need to get of...  ...  peopl pathet nee get machin not world swift ov...\n",
              "2165  24hours, when i was a kid at school and i was ...  ...  24hours kid school half term ultim onlin gam a...\n",
              "\n",
              "[12090 rows x 3 columns]"
            ]
          },
          "metadata": {
            "tags": []
          },
          "execution_count": 13
        }
      ]
    },
    {
      "cell_type": "code",
      "metadata": {
        "id": "ENtTBwveXtgh",
        "colab_type": "code",
        "colab": {
          "base_uri": "https://localhost:8080/",
          "height": 419
        },
        "outputId": "f3f94122-12ae-43f9-e56e-5700501d1ceb"
      },
      "source": [
        "X, y = df['words'],df['Type']\n",
        "y = pd.get_dummies(y)\n",
        "y"
      ],
      "execution_count": 14,
      "outputs": [
        {
          "output_type": "execute_result",
          "data": {
            "text/html": [
              "<div>\n",
              "<style scoped>\n",
              "    .dataframe tbody tr th:only-of-type {\n",
              "        vertical-align: middle;\n",
              "    }\n",
              "\n",
              "    .dataframe tbody tr th {\n",
              "        vertical-align: top;\n",
              "    }\n",
              "\n",
              "    .dataframe thead th {\n",
              "        text-align: right;\n",
              "    }\n",
              "</style>\n",
              "<table border=\"1\" class=\"dataframe\">\n",
              "  <thead>\n",
              "    <tr style=\"text-align: right;\">\n",
              "      <th></th>\n",
              "      <th>business</th>\n",
              "      <th>entertainment</th>\n",
              "      <th>politics</th>\n",
              "      <th>sport</th>\n",
              "      <th>tech</th>\n",
              "    </tr>\n",
              "  </thead>\n",
              "  <tbody>\n",
              "    <tr>\n",
              "      <th>0</th>\n",
              "      <td>1</td>\n",
              "      <td>0</td>\n",
              "      <td>0</td>\n",
              "      <td>0</td>\n",
              "      <td>0</td>\n",
              "    </tr>\n",
              "    <tr>\n",
              "      <th>1</th>\n",
              "      <td>1</td>\n",
              "      <td>0</td>\n",
              "      <td>0</td>\n",
              "      <td>0</td>\n",
              "      <td>0</td>\n",
              "    </tr>\n",
              "    <tr>\n",
              "      <th>2</th>\n",
              "      <td>1</td>\n",
              "      <td>0</td>\n",
              "      <td>0</td>\n",
              "      <td>0</td>\n",
              "      <td>0</td>\n",
              "    </tr>\n",
              "    <tr>\n",
              "      <th>3</th>\n",
              "      <td>1</td>\n",
              "      <td>0</td>\n",
              "      <td>0</td>\n",
              "      <td>0</td>\n",
              "      <td>0</td>\n",
              "    </tr>\n",
              "    <tr>\n",
              "      <th>4</th>\n",
              "      <td>1</td>\n",
              "      <td>0</td>\n",
              "      <td>0</td>\n",
              "      <td>0</td>\n",
              "      <td>0</td>\n",
              "    </tr>\n",
              "    <tr>\n",
              "      <th>...</th>\n",
              "      <td>...</td>\n",
              "      <td>...</td>\n",
              "      <td>...</td>\n",
              "      <td>...</td>\n",
              "      <td>...</td>\n",
              "    </tr>\n",
              "    <tr>\n",
              "      <th>2161</th>\n",
              "      <td>0</td>\n",
              "      <td>0</td>\n",
              "      <td>0</td>\n",
              "      <td>0</td>\n",
              "      <td>1</td>\n",
              "    </tr>\n",
              "    <tr>\n",
              "      <th>2162</th>\n",
              "      <td>0</td>\n",
              "      <td>0</td>\n",
              "      <td>0</td>\n",
              "      <td>0</td>\n",
              "      <td>1</td>\n",
              "    </tr>\n",
              "    <tr>\n",
              "      <th>2163</th>\n",
              "      <td>0</td>\n",
              "      <td>0</td>\n",
              "      <td>0</td>\n",
              "      <td>0</td>\n",
              "      <td>1</td>\n",
              "    </tr>\n",
              "    <tr>\n",
              "      <th>2164</th>\n",
              "      <td>0</td>\n",
              "      <td>0</td>\n",
              "      <td>0</td>\n",
              "      <td>0</td>\n",
              "      <td>1</td>\n",
              "    </tr>\n",
              "    <tr>\n",
              "      <th>2165</th>\n",
              "      <td>0</td>\n",
              "      <td>0</td>\n",
              "      <td>0</td>\n",
              "      <td>0</td>\n",
              "      <td>1</td>\n",
              "    </tr>\n",
              "  </tbody>\n",
              "</table>\n",
              "<p>12090 rows × 5 columns</p>\n",
              "</div>"
            ],
            "text/plain": [
              "      business  entertainment  politics  sport  tech\n",
              "0            1              0         0      0     0\n",
              "1            1              0         0      0     0\n",
              "2            1              0         0      0     0\n",
              "3            1              0         0      0     0\n",
              "4            1              0         0      0     0\n",
              "...        ...            ...       ...    ...   ...\n",
              "2161         0              0         0      0     1\n",
              "2162         0              0         0      0     1\n",
              "2163         0              0         0      0     1\n",
              "2164         0              0         0      0     1\n",
              "2165         0              0         0      0     1\n",
              "\n",
              "[12090 rows x 5 columns]"
            ]
          },
          "metadata": {
            "tags": []
          },
          "execution_count": 14
        }
      ]
    },
    {
      "cell_type": "code",
      "metadata": {
        "id": "REwMLjXMBekR",
        "colab_type": "code",
        "colab": {
          "base_uri": "https://localhost:8080/",
          "height": 419
        },
        "outputId": "c1b04a6c-786a-4c4c-b7bd-d4830040c6ca"
      },
      "source": [
        "df"
      ],
      "execution_count": 15,
      "outputs": [
        {
          "output_type": "execute_result",
          "data": {
            "text/html": [
              "<div>\n",
              "<style scoped>\n",
              "    .dataframe tbody tr th:only-of-type {\n",
              "        vertical-align: middle;\n",
              "    }\n",
              "\n",
              "    .dataframe tbody tr th {\n",
              "        vertical-align: top;\n",
              "    }\n",
              "\n",
              "    .dataframe thead th {\n",
              "        text-align: right;\n",
              "    }\n",
              "</style>\n",
              "<table border=\"1\" class=\"dataframe\">\n",
              "  <thead>\n",
              "    <tr style=\"text-align: right;\">\n",
              "      <th></th>\n",
              "      <th>Message</th>\n",
              "      <th>Type</th>\n",
              "      <th>words</th>\n",
              "    </tr>\n",
              "  </thead>\n",
              "  <tbody>\n",
              "    <tr>\n",
              "      <th>0</th>\n",
              "      <td>Quarterly profits at US media giant TimeWarner...</td>\n",
              "      <td>business</td>\n",
              "      <td>quart profit us med giant timewarn jump sevent...</td>\n",
              "    </tr>\n",
              "    <tr>\n",
              "      <th>1</th>\n",
              "      <td>The firm, which is now one of the biggest inve...</td>\n",
              "      <td>business</td>\n",
              "      <td>firm on biggest invest googl benefit sal highs...</td>\n",
              "    </tr>\n",
              "    <tr>\n",
              "      <th>2</th>\n",
              "      <td>Time Warner said on Friday that it now owns 8%...</td>\n",
              "      <td>business</td>\n",
              "      <td>tim warn said friday own eight searchengin goo...</td>\n",
              "    </tr>\n",
              "    <tr>\n",
              "      <th>3</th>\n",
              "      <td>Time Warner's fourth quarter profits were slig...</td>\n",
              "      <td>business</td>\n",
              "      <td>tim warn four quart profit slight bet analyst ...</td>\n",
              "    </tr>\n",
              "    <tr>\n",
              "      <th>4</th>\n",
              "      <td>TimeWarner is to restate its accounts as part ...</td>\n",
              "      <td>business</td>\n",
              "      <td>timewarn rest account part effort resolv inqui...</td>\n",
              "    </tr>\n",
              "    <tr>\n",
              "      <th>...</th>\n",
              "      <td>...</td>\n",
              "      <td>...</td>\n",
              "      <td>...</td>\n",
              "    </tr>\n",
              "    <tr>\n",
              "      <th>2161</th>\n",
              "      <td>I bought the US version of World of Warcraft w...</td>\n",
              "      <td>tech</td>\n",
              "      <td>bought us vert world warcraft cam longest peri...</td>\n",
              "    </tr>\n",
              "    <tr>\n",
              "      <th>2162</th>\n",
              "      <td>Having played MMORPG games for some years I ag...</td>\n",
              "      <td>tech</td>\n",
              "      <td>play mmorpg gam year agr typ gam lif suck conc...</td>\n",
              "    </tr>\n",
              "    <tr>\n",
              "      <th>2163</th>\n",
              "      <td>Unless there is undeniable medical proof that ...</td>\n",
              "      <td>tech</td>\n",
              "      <td>unless undeny med proof star comput screens ho...</td>\n",
              "    </tr>\n",
              "    <tr>\n",
              "      <th>2164</th>\n",
              "      <td>These people are pathetic. They need to get of...</td>\n",
              "      <td>tech</td>\n",
              "      <td>peopl pathet nee get machin not world swift ov...</td>\n",
              "    </tr>\n",
              "    <tr>\n",
              "      <th>2165</th>\n",
              "      <td>24hours, when i was a kid at school and i was ...</td>\n",
              "      <td>tech</td>\n",
              "      <td>24hours kid school half term ultim onlin gam a...</td>\n",
              "    </tr>\n",
              "  </tbody>\n",
              "</table>\n",
              "<p>12090 rows × 3 columns</p>\n",
              "</div>"
            ],
            "text/plain": [
              "                                                Message  ...                                              words\n",
              "0     Quarterly profits at US media giant TimeWarner...  ...  quart profit us med giant timewarn jump sevent...\n",
              "1     The firm, which is now one of the biggest inve...  ...  firm on biggest invest googl benefit sal highs...\n",
              "2     Time Warner said on Friday that it now owns 8%...  ...  tim warn said friday own eight searchengin goo...\n",
              "3     Time Warner's fourth quarter profits were slig...  ...  tim warn four quart profit slight bet analyst ...\n",
              "4     TimeWarner is to restate its accounts as part ...  ...  timewarn rest account part effort resolv inqui...\n",
              "...                                                 ...  ...                                                ...\n",
              "2161  I bought the US version of World of Warcraft w...  ...  bought us vert world warcraft cam longest peri...\n",
              "2162  Having played MMORPG games for some years I ag...  ...  play mmorpg gam year agr typ gam lif suck conc...\n",
              "2163  Unless there is undeniable medical proof that ...  ...  unless undeny med proof star comput screens ho...\n",
              "2164  These people are pathetic. They need to get of...  ...  peopl pathet nee get machin not world swift ov...\n",
              "2165  24hours, when i was a kid at school and i was ...  ...  24hours kid school half term ultim onlin gam a...\n",
              "\n",
              "[12090 rows x 3 columns]"
            ]
          },
          "metadata": {
            "tags": []
          },
          "execution_count": 15
        }
      ]
    },
    {
      "cell_type": "code",
      "metadata": {
        "id": "q-l5MuVDBd7Z",
        "colab_type": "code",
        "colab": {}
      },
      "source": [
        "df = None"
      ],
      "execution_count": 16,
      "outputs": []
    },
    {
      "cell_type": "code",
      "metadata": {
        "id": "s7SGODe7BgiP",
        "colab_type": "code",
        "colab": {}
      },
      "source": [
        "df"
      ],
      "execution_count": 17,
      "outputs": []
    },
    {
      "cell_type": "code",
      "metadata": {
        "id": "8nrenTk1GOCt",
        "colab_type": "code",
        "colab": {}
      },
      "source": [
        "X_tf_idf = None"
      ],
      "execution_count": 19,
      "outputs": []
    },
    {
      "cell_type": "code",
      "metadata": {
        "id": "wuMntMtFOnXp",
        "colab_type": "code",
        "colab": {
          "base_uri": "https://localhost:8080/",
          "height": 51
        },
        "outputId": "bec5aad3-22e3-46c1-f29b-c7aea6b7ac53"
      },
      "source": [
        "tf_idf = TfidfVectorizer(max_features=5000)\n",
        "X_tf_idf = tf_idf.fit_transform(X)\n",
        "print(X_tf_idf.shape)\n",
        "X_tf_idf.toarray()[0]"
      ],
      "execution_count": 20,
      "outputs": [
        {
          "output_type": "stream",
          "text": [
            "(12090, 5000)\n"
          ],
          "name": "stdout"
        },
        {
          "output_type": "execute_result",
          "data": {
            "text/plain": [
              "array([0., 0., 0., ..., 0., 0., 0.])"
            ]
          },
          "metadata": {
            "tags": []
          },
          "execution_count": 20
        }
      ]
    },
    {
      "cell_type": "markdown",
      "metadata": {
        "id": "5go74hsUdVH4",
        "colab_type": "text"
      },
      "source": [
        "# 3. Modelamiento\n"
      ]
    },
    {
      "cell_type": "markdown",
      "metadata": {
        "id": "Va7TvDTTmbZX",
        "colab_type": "text"
      },
      "source": [
        "### Sin entonación de parámetros"
      ]
    },
    {
      "cell_type": "code",
      "metadata": {
        "id": "mV4vfi9EmabG",
        "colab_type": "code",
        "colab": {}
      },
      "source": [
        "input = (X_tf_idf.shape)[1]\n",
        "output = 5"
      ],
      "execution_count": 21,
      "outputs": []
    },
    {
      "cell_type": "code",
      "metadata": {
        "id": "vMegChTdmh72",
        "colab_type": "code",
        "colab": {}
      },
      "source": [
        "X_train, X_test, y_train, y_test = train_test_split(X_tf_idf.toarray(), y.values, test_size=0.2, random_state=33)"
      ],
      "execution_count": 22,
      "outputs": []
    },
    {
      "cell_type": "code",
      "metadata": {
        "id": "CB8ssBYEBm07",
        "colab_type": "code",
        "colab": {}
      },
      "source": [
        "X_tf_idf = None"
      ],
      "execution_count": 23,
      "outputs": []
    },
    {
      "cell_type": "code",
      "metadata": {
        "id": "YqKMlDW6Bq8S",
        "colab_type": "code",
        "colab": {}
      },
      "source": [
        "X_tf_idf"
      ],
      "execution_count": 24,
      "outputs": []
    },
    {
      "cell_type": "code",
      "metadata": {
        "id": "Dr2ouB8ZmmU_",
        "colab_type": "code",
        "colab": {}
      },
      "source": [
        "#Se inicializa el modelo\n",
        "model = Sequential()\n",
        "#Se agrega la primera capa\n",
        "model.add(Dense(512, input_dim = input))\n",
        "#Se define su función de activación\n",
        "model.add(Activation('relu'))\n",
        "#Se define la tasa de Dropout\n",
        "model.add(Dropout(0.5))\n",
        "#Se define la capa de salida\n",
        "model.add(Dense(5))\n",
        "#Se define la función de activación\n",
        "model.add(Activation('softmax'))"
      ],
      "execution_count": 25,
      "outputs": []
    },
    {
      "cell_type": "code",
      "metadata": {
        "id": "2UD1cfKzmxND",
        "colab_type": "code",
        "colab": {
          "base_uri": "https://localhost:8080/",
          "height": 323
        },
        "outputId": "8369b30c-b298-4ee2-f3fc-b1863777795a"
      },
      "source": [
        "model.summary()"
      ],
      "execution_count": 26,
      "outputs": [
        {
          "output_type": "stream",
          "text": [
            "Model: \"sequential\"\n",
            "_________________________________________________________________\n",
            "Layer (type)                 Output Shape              Param #   \n",
            "=================================================================\n",
            "dense (Dense)                (None, 512)               18749440  \n",
            "_________________________________________________________________\n",
            "activation (Activation)      (None, 512)               0         \n",
            "_________________________________________________________________\n",
            "dropout (Dropout)            (None, 512)               0         \n",
            "_________________________________________________________________\n",
            "dense_1 (Dense)              (None, 5)                 2565      \n",
            "_________________________________________________________________\n",
            "activation_1 (Activation)    (None, 5)                 0         \n",
            "=================================================================\n",
            "Total params: 18,752,005\n",
            "Trainable params: 18,752,005\n",
            "Non-trainable params: 0\n",
            "_________________________________________________________________\n"
          ],
          "name": "stdout"
        }
      ]
    },
    {
      "cell_type": "code",
      "metadata": {
        "id": "70LIaqGWmzGY",
        "colab_type": "code",
        "colab": {}
      },
      "source": [
        "model.compile(loss='categorical_crossentropy', optimizer=\"SGD\", metrics=[\"accuracy\"])"
      ],
      "execution_count": 27,
      "outputs": []
    },
    {
      "cell_type": "code",
      "metadata": {
        "id": "_LN9W03Lm-t_",
        "colab_type": "code",
        "colab": {}
      },
      "source": [
        "from tensorflow.keras.callbacks import EarlyStopping\n",
        "\n",
        "early_stopping = EarlyStopping(monitor='loss', patience=3, verbose=1, mode='min', baseline=None, restore_best_weights=False)\n",
        "callbacks = [early_stopping]"
      ],
      "execution_count": 28,
      "outputs": []
    },
    {
      "cell_type": "code",
      "metadata": {
        "id": "F2066fwcnAoh",
        "colab_type": "code",
        "colab": {}
      },
      "source": [
        "history = model.fit(X_train, y_train, epochs= 20, batch_size = 20, callbacks=callbacks)"
      ],
      "execution_count": null,
      "outputs": []
    },
    {
      "cell_type": "markdown",
      "metadata": {
        "id": "9Ft61vdvufDa",
        "colab_type": "text"
      },
      "source": [
        "### NOTA:\n",
        "\n",
        "Se intentó de muchísimas formas lograr correr la red con la entonación de parámetros, pero Colab en todas las variables murió. Sin embargo, se adjunta el código que se encarga de ejecutar la entonación de parámetros. Estas fueron las diferentes combinaciones usadas sin exito:\n",
        "\n",
        "> Se intentó epoch=15, batch_size=15\n",
        "\n",
        "> Se intentó epoch=10, batch_size=10\n",
        "\n",
        "> Se intentó quitar el parámetro de usar 10.000 neuronas.\n",
        "\n",
        "> Se intentó quitar el leraning rate de 0.2 \n",
        "\n",
        "> Se intentó quitar una de las dos funciones de activación\n",
        "\n",
        "En todos los casos la RAM suministrada por Colab que es de 12.72 Gb se moría. Se verificó varias veces la cantidad de noticias en el dataframe que tiene un total de 10627 registros de las 5 categorías. \n",
        "\n",
        "Psdta: Cabe aclarar que al usar un batch de 5 y epochs de 5 sí corría, pero el modelo se estancaba en 0.20 de precisión y no avanzaba más. Así, resultaba mejor el modelo sin optimización de parámetros. "
      ]
    },
    {
      "cell_type": "markdown",
      "metadata": {
        "id": "XuJxdosYLol-",
        "colab_type": "text"
      },
      "source": [
        "### Entonación de parámetros"
      ]
    },
    {
      "cell_type": "code",
      "metadata": {
        "id": "kmix5-Qak4gW",
        "colab_type": "code",
        "colab": {
          "base_uri": "https://localhost:8080/",
          "height": 34
        },
        "outputId": "cd3bc1b5-0cd5-4e5d-cdca-9320d5d15b2f"
      },
      "source": [
        "from keras.wrappers.scikit_learn import KerasClassifier\n",
        "\n",
        "import tensorflow as tf\n",
        "from tensorflow.keras.datasets import reuters\n",
        "from tensorflow.keras.models import Sequential\n",
        "from tensorflow.keras.layers import Dense, Dropout, Activation\n",
        "from tensorflow.keras.preprocessing.text import Tokenizer\n",
        "from tensorflow.keras.callbacks import ModelCheckpoint, EarlyStopping"
      ],
      "execution_count": 25,
      "outputs": [
        {
          "output_type": "stream",
          "text": [
            "Using TensorFlow backend.\n"
          ],
          "name": "stderr"
        }
      ]
    },
    {
      "cell_type": "code",
      "metadata": {
        "id": "R0G8yXovdVY_",
        "colab_type": "code",
        "colab": {
          "base_uri": "https://localhost:8080/",
          "height": 51
        },
        "outputId": "d6de2426-1252-41da-abbf-ae856a41abec"
      },
      "source": [
        "%%time \n",
        "\n",
        "def entrenarRed(nn1 = 512, nn2 = 100, n_layers= 2, dropout = 0.1, activacion_oculta = 'relu'):\n",
        "    clf = Sequential(name='Mi_Red')\n",
        "    output = 5\n",
        "    first = True\n",
        "\n",
        "    for i in range(n_layers):\n",
        "        if first:\n",
        "            clf.add(Dense(nn1, activation=activacion_oculta, name='Capa_Entrada'))\n",
        "            first = False\n",
        "        else:\n",
        "            clf.add(Dense(nn2, activation=activacion_oculta, name = 'Capa_Oculta_{0}'.format(i)))\n",
        "    \n",
        "    clf.add(Dropout(dropout,name='Dropout_{0}'.format(dropout)))\n",
        "    clf.add(Dense(output, activation='sigmoid', name= 'Capa_Salida'))\n",
        "\n",
        "    clf.compile(loss='categorical_crossentropy', optimizer='sgd', metrics=['accuracy'])\n",
        "    \n",
        "    return clf\n",
        "\n",
        "# Modelo que utiliza el GridSearch\n",
        "modelCV = KerasClassifier(build_fn=entrenarRed, epochs=10, batch_size=20, verbose=1,shuffle = True)"
      ],
      "execution_count": 26,
      "outputs": [
        {
          "output_type": "stream",
          "text": [
            "CPU times: user 330 µs, sys: 0 ns, total: 330 µs\n",
            "Wall time: 335 µs\n"
          ],
          "name": "stdout"
        }
      ]
    },
    {
      "cell_type": "code",
      "metadata": {
        "id": "PVF1xx7QM1Wt",
        "colab_type": "code",
        "colab": {}
      },
      "source": [
        "def my_custom_loss_func(y_true, y_pred):\n",
        "    return accuracy_score(y_true.argmax(axis=-1), y_pred)\n",
        "\n",
        "class toArray():\n",
        "    def __init__(self):\n",
        "        return\n",
        "\n",
        "    def transform(self, X, **transform_params):\n",
        "        return X.toarray()\n",
        "\n",
        "    def fit(self, X, y=None, **fit_params):\n",
        "        return self"
      ],
      "execution_count": 27,
      "outputs": []
    },
    {
      "cell_type": "code",
      "metadata": {
        "id": "_HkKC4gAmB_q",
        "colab_type": "code",
        "colab": {}
      },
      "source": [
        "from sklearn.model_selection import train_test_split, RandomizedSearchCV\n",
        "from sklearn.feature_extraction.text import TfidfVectorizer, CountVectorizer\n",
        "from sklearn.pipeline import Pipeline, FeatureUnion\n",
        "from sklearn.metrics import classification_report, confusion_matrix, accuracy_score, make_scorer"
      ],
      "execution_count": 28,
      "outputs": []
    },
    {
      "cell_type": "code",
      "metadata": {
        "id": "tNkWAEoWNc7S",
        "colab_type": "code",
        "colab": {
          "base_uri": "https://localhost:8080/",
          "height": 51
        },
        "outputId": "dc3bb4c2-8c61-4274-d721-a9c716c3ffe3"
      },
      "source": [
        "%%time\n",
        "\n",
        "pipe = Pipeline([('transformacion',TfidfVectorizer()),\n",
        "                 ('matriz',toArray()),\n",
        "                  ('red_neuronal',modelCV)])\n",
        "\n",
        "param_grid = dict(transformacion=[TfidfVectorizer(max_features=5000),CountVectorizer(max_features=5000)],\n",
        "                  red_neuronal__nn1 = [512, 256, 128],\n",
        "                  red_neuronal__nn2 = [512, 256, 128],\n",
        "                  red_neuronal__n_layers = [1,2],\n",
        "                  red_neuronal__dropout = [0.1,0.2, 0.3],\n",
        "                  red_neuronal__activacion_oculta = ['relu','sigmoid']\n",
        "                  )\n",
        "\n",
        "score = make_scorer(my_custom_loss_func, greater_is_better=True)\n",
        "\n",
        "grid = RandomizedSearchCV(pipe, param_grid, scoring=score, verbose=1, cv = 3, n_iter=10, random_state=20)\n"
      ],
      "execution_count": 29,
      "outputs": [
        {
          "output_type": "stream",
          "text": [
            "CPU times: user 287 µs, sys: 0 ns, total: 287 µs\n",
            "Wall time: 472 µs\n"
          ],
          "name": "stdout"
        }
      ]
    },
    {
      "cell_type": "code",
      "metadata": {
        "id": "-H-i2aI_mghv",
        "colab_type": "code",
        "colab": {}
      },
      "source": [
        "from tensorflow.keras.callbacks import EarlyStopping\n",
        "\n",
        "early_stopping = EarlyStopping(monitor='loss', patience=3, verbose=1, mode='min', baseline=None, restore_best_weights=False)\n",
        "callbacks = [early_stopping]"
      ],
      "execution_count": 30,
      "outputs": []
    },
    {
      "cell_type": "code",
      "metadata": {
        "id": "4dNicbtI9wk_",
        "colab_type": "code",
        "colab": {}
      },
      "source": [
        "X_tf_idf = None"
      ],
      "execution_count": 31,
      "outputs": []
    },
    {
      "cell_type": "code",
      "metadata": {
        "id": "cmI-UH_rNRaX",
        "colab_type": "code",
        "colab": {
          "base_uri": "https://localhost:8080/",
          "height": 1000
        },
        "outputId": "023dab86-d643-4adb-8975-25d2ae0f7e6f"
      },
      "source": [
        "X_train, X_test, y_train, y_test = train_test_split(X.values, y.values, test_size=0.2, random_state=33)\n",
        "\n",
        "grid.fit(X_train, y_train, red_neuronal__callbacks=callbacks)\n",
        "\n",
        "best_model = grid.best_estimator_\n",
        "best_model"
      ],
      "execution_count": 32,
      "outputs": [
        {
          "output_type": "stream",
          "text": [
            "Fitting 3 folds for each of 10 candidates, totalling 30 fits\n"
          ],
          "name": "stdout"
        },
        {
          "output_type": "stream",
          "text": [
            "[Parallel(n_jobs=1)]: Using backend SequentialBackend with 1 concurrent workers.\n"
          ],
          "name": "stderr"
        },
        {
          "output_type": "stream",
          "text": [
            "Epoch 1/10\n",
            "323/323 [==============================] - 2s 6ms/step - loss: 1.4822 - accuracy: 0.4367\n",
            "Epoch 2/10\n",
            "323/323 [==============================] - 2s 6ms/step - loss: 1.1552 - accuracy: 0.6953\n",
            "Epoch 3/10\n",
            "323/323 [==============================] - 2s 6ms/step - loss: 0.8473 - accuracy: 0.8080\n",
            "Epoch 4/10\n",
            "323/323 [==============================] - 2s 6ms/step - loss: 0.6658 - accuracy: 0.8525\n",
            "Epoch 5/10\n",
            "323/323 [==============================] - 2s 5ms/step - loss: 0.5508 - accuracy: 0.8835\n",
            "Epoch 6/10\n",
            "323/323 [==============================] - 2s 5ms/step - loss: 0.4703 - accuracy: 0.8969\n",
            "Epoch 7/10\n",
            "323/323 [==============================] - 2s 5ms/step - loss: 0.4067 - accuracy: 0.9175\n",
            "Epoch 8/10\n",
            "323/323 [==============================] - 2s 5ms/step - loss: 0.3614 - accuracy: 0.9270\n",
            "Epoch 9/10\n",
            "323/323 [==============================] - 2s 5ms/step - loss: 0.3256 - accuracy: 0.9288\n",
            "Epoch 10/10\n",
            "323/323 [==============================] - 2s 5ms/step - loss: 0.2911 - accuracy: 0.9389\n",
            "162/162 [==============================] - 0s 3ms/step\n",
            "Epoch 1/10\n",
            "323/323 [==============================] - 2s 6ms/step - loss: 1.4718 - accuracy: 0.4332\n",
            "Epoch 2/10\n",
            "323/323 [==============================] - 2s 5ms/step - loss: 1.1447 - accuracy: 0.6977\n",
            "Epoch 3/10\n",
            "323/323 [==============================] - 2s 5ms/step - loss: 0.8436 - accuracy: 0.8029\n",
            "Epoch 4/10\n",
            "323/323 [==============================] - 2s 5ms/step - loss: 0.6643 - accuracy: 0.8522\n",
            "Epoch 5/10\n",
            "323/323 [==============================] - 2s 6ms/step - loss: 0.5588 - accuracy: 0.8786\n",
            "Epoch 6/10\n",
            "323/323 [==============================] - 2s 6ms/step - loss: 0.4796 - accuracy: 0.9017\n",
            "Epoch 7/10\n",
            "323/323 [==============================] - 2s 6ms/step - loss: 0.4171 - accuracy: 0.9156\n",
            "Epoch 8/10\n",
            "323/323 [==============================] - 2s 6ms/step - loss: 0.3689 - accuracy: 0.9265\n",
            "Epoch 9/10\n",
            "323/323 [==============================] - 2s 6ms/step - loss: 0.3305 - accuracy: 0.9322\n",
            "Epoch 10/10\n",
            "323/323 [==============================] - 2s 6ms/step - loss: 0.2948 - accuracy: 0.9420\n",
            "162/162 [==============================] - 0s 3ms/step\n",
            "Epoch 1/10\n",
            "323/323 [==============================] - 2s 5ms/step - loss: 1.4460 - accuracy: 0.4200\n",
            "Epoch 2/10\n",
            "323/323 [==============================] - 2s 5ms/step - loss: 1.0912 - accuracy: 0.7150\n",
            "Epoch 3/10\n",
            "323/323 [==============================] - 2s 5ms/step - loss: 0.8114 - accuracy: 0.8077\n",
            "Epoch 4/10\n",
            "323/323 [==============================] - 2s 5ms/step - loss: 0.6473 - accuracy: 0.8545\n",
            "Epoch 5/10\n",
            "323/323 [==============================] - 2s 6ms/step - loss: 0.5426 - accuracy: 0.8823\n",
            "Epoch 6/10\n",
            "323/323 [==============================] - 2s 5ms/step - loss: 0.4665 - accuracy: 0.9034\n",
            "Epoch 7/10\n",
            "323/323 [==============================] - 2s 5ms/step - loss: 0.4116 - accuracy: 0.9133\n",
            "Epoch 8/10\n",
            "323/323 [==============================] - 2s 5ms/step - loss: 0.3649 - accuracy: 0.9235\n",
            "Epoch 9/10\n",
            "323/323 [==============================] - 2s 6ms/step - loss: 0.3278 - accuracy: 0.9319\n",
            "Epoch 10/10\n",
            "323/323 [==============================] - 2s 6ms/step - loss: 0.2978 - accuracy: 0.9397\n",
            "162/162 [==============================] - 1s 3ms/step\n",
            "Epoch 1/10\n",
            "323/323 [==============================] - 2s 5ms/step - loss: 1.5887 - accuracy: 0.2739\n",
            "Epoch 2/10\n",
            "323/323 [==============================] - 2s 5ms/step - loss: 1.5316 - accuracy: 0.3116\n",
            "Epoch 3/10\n",
            "323/323 [==============================] - 2s 5ms/step - loss: 1.4484 - accuracy: 0.3924\n",
            "Epoch 4/10\n",
            "323/323 [==============================] - 2s 5ms/step - loss: 1.3319 - accuracy: 0.4798\n",
            "Epoch 5/10\n",
            "323/323 [==============================] - 2s 5ms/step - loss: 1.2176 - accuracy: 0.5389\n",
            "Epoch 6/10\n",
            "323/323 [==============================] - 2s 6ms/step - loss: 1.1068 - accuracy: 0.5954\n",
            "Epoch 7/10\n",
            "323/323 [==============================] - 2s 5ms/step - loss: 1.0224 - accuracy: 0.6334\n",
            "Epoch 8/10\n",
            "323/323 [==============================] - 2s 5ms/step - loss: 0.9475 - accuracy: 0.6597\n",
            "Epoch 9/10\n",
            "323/323 [==============================] - 2s 5ms/step - loss: 0.8890 - accuracy: 0.6864\n",
            "Epoch 10/10\n",
            "323/323 [==============================] - 2s 5ms/step - loss: 0.8306 - accuracy: 0.7046\n",
            "162/162 [==============================] - 0s 3ms/step\n",
            "Epoch 1/10\n",
            "323/323 [==============================] - 2s 5ms/step - loss: 1.5774 - accuracy: 0.2889\n",
            "Epoch 2/10\n",
            "323/323 [==============================] - 2s 5ms/step - loss: 1.5352 - accuracy: 0.3044\n",
            "Epoch 3/10\n",
            "323/323 [==============================] - 2s 6ms/step - loss: 1.4748 - accuracy: 0.3427\n",
            "Epoch 4/10\n",
            "323/323 [==============================] - 2s 6ms/step - loss: 1.3808 - accuracy: 0.4409\n",
            "Epoch 5/10\n",
            "323/323 [==============================] - 2s 6ms/step - loss: 1.2596 - accuracy: 0.5090\n",
            "Epoch 6/10\n",
            "323/323 [==============================] - 2s 6ms/step - loss: 1.1537 - accuracy: 0.5651\n",
            "Epoch 7/10\n",
            "323/323 [==============================] - 2s 6ms/step - loss: 1.0574 - accuracy: 0.6127\n",
            "Epoch 8/10\n",
            "323/323 [==============================] - 2s 5ms/step - loss: 0.9860 - accuracy: 0.6470\n",
            "Epoch 9/10\n",
            "323/323 [==============================] - 2s 6ms/step - loss: 0.9163 - accuracy: 0.6663\n",
            "Epoch 10/10\n",
            "323/323 [==============================] - 2s 6ms/step - loss: 0.8693 - accuracy: 0.6911\n",
            "162/162 [==============================] - 0s 3ms/step\n",
            "Epoch 1/10\n",
            "323/323 [==============================] - 2s 6ms/step - loss: 1.5692 - accuracy: 0.2975\n",
            "Epoch 2/10\n",
            "323/323 [==============================] - 2s 6ms/step - loss: 1.4925 - accuracy: 0.3592\n",
            "Epoch 3/10\n",
            "323/323 [==============================] - 2s 6ms/step - loss: 1.3888 - accuracy: 0.4333\n",
            "Epoch 4/10\n",
            "323/323 [==============================] - 2s 6ms/step - loss: 1.2720 - accuracy: 0.5078\n",
            "Epoch 5/10\n",
            "323/323 [==============================] - 2s 7ms/step - loss: 1.1672 - accuracy: 0.5709\n",
            "Epoch 6/10\n",
            "323/323 [==============================] - 2s 6ms/step - loss: 1.0727 - accuracy: 0.6022\n",
            "Epoch 7/10\n",
            "323/323 [==============================] - 2s 6ms/step - loss: 0.9819 - accuracy: 0.6487\n",
            "Epoch 8/10\n",
            "323/323 [==============================] - 2s 6ms/step - loss: 0.9330 - accuracy: 0.6659\n",
            "Epoch 9/10\n",
            "323/323 [==============================] - 2s 5ms/step - loss: 0.8747 - accuracy: 0.6844\n",
            "Epoch 10/10\n",
            "323/323 [==============================] - 2s 5ms/step - loss: 0.8303 - accuracy: 0.7052\n",
            "162/162 [==============================] - 0s 3ms/step\n",
            "Epoch 1/10\n",
            "323/323 [==============================] - 3s 9ms/step - loss: 1.6015 - accuracy: 0.2868\n",
            "Epoch 2/10\n",
            "323/323 [==============================] - 3s 9ms/step - loss: 1.5908 - accuracy: 0.2894\n",
            "Epoch 3/10\n",
            "323/323 [==============================] - 3s 9ms/step - loss: 1.5842 - accuracy: 0.2894\n",
            "Epoch 4/10\n",
            "323/323 [==============================] - 3s 9ms/step - loss: 1.5794 - accuracy: 0.2894\n",
            "Epoch 5/10\n",
            "323/323 [==============================] - 3s 9ms/step - loss: 1.5762 - accuracy: 0.2894\n",
            "Epoch 6/10\n",
            "323/323 [==============================] - 3s 9ms/step - loss: 1.5730 - accuracy: 0.2894\n",
            "Epoch 7/10\n",
            "323/323 [==============================] - 3s 9ms/step - loss: 1.5689 - accuracy: 0.2894\n",
            "Epoch 8/10\n",
            "323/323 [==============================] - 3s 9ms/step - loss: 1.5652 - accuracy: 0.2894\n",
            "Epoch 9/10\n",
            "323/323 [==============================] - 3s 9ms/step - loss: 1.5600 - accuracy: 0.2894\n",
            "Epoch 10/10\n",
            "323/323 [==============================] - 3s 9ms/step - loss: 1.5536 - accuracy: 0.2894\n",
            "162/162 [==============================] - 1s 4ms/step\n",
            "Epoch 1/10\n",
            "323/323 [==============================] - 3s 9ms/step - loss: 1.6001 - accuracy: 0.2956\n",
            "Epoch 2/10\n",
            "323/323 [==============================] - 3s 9ms/step - loss: 1.5864 - accuracy: 0.2990\n",
            "Epoch 3/10\n",
            "323/323 [==============================] - 3s 9ms/step - loss: 1.5779 - accuracy: 0.2990\n",
            "Epoch 4/10\n",
            "323/323 [==============================] - 3s 9ms/step - loss: 1.5720 - accuracy: 0.2990\n",
            "Epoch 5/10\n",
            "323/323 [==============================] - 3s 9ms/step - loss: 1.5686 - accuracy: 0.2990\n",
            "Epoch 6/10\n",
            "323/323 [==============================] - 3s 9ms/step - loss: 1.5652 - accuracy: 0.2990\n",
            "Epoch 7/10\n",
            "323/323 [==============================] - 3s 9ms/step - loss: 1.5616 - accuracy: 0.2990\n",
            "Epoch 8/10\n",
            "323/323 [==============================] - 3s 9ms/step - loss: 1.5572 - accuracy: 0.2990\n",
            "Epoch 9/10\n",
            "323/323 [==============================] - 3s 9ms/step - loss: 1.5527 - accuracy: 0.2990\n",
            "Epoch 10/10\n",
            "323/323 [==============================] - 3s 9ms/step - loss: 1.5480 - accuracy: 0.2990\n",
            "162/162 [==============================] - 1s 4ms/step\n",
            "Epoch 1/10\n",
            "323/323 [==============================] - 3s 9ms/step - loss: 1.5999 - accuracy: 0.2959\n",
            "Epoch 2/10\n",
            "323/323 [==============================] - 3s 9ms/step - loss: 1.5863 - accuracy: 0.2993\n",
            "Epoch 3/10\n",
            "323/323 [==============================] - 3s 9ms/step - loss: 1.5783 - accuracy: 0.2993\n",
            "Epoch 4/10\n",
            "323/323 [==============================] - 3s 9ms/step - loss: 1.5731 - accuracy: 0.2993\n",
            "Epoch 5/10\n",
            "323/323 [==============================] - 3s 9ms/step - loss: 1.5689 - accuracy: 0.2993\n",
            "Epoch 6/10\n",
            "323/323 [==============================] - 3s 9ms/step - loss: 1.5653 - accuracy: 0.2993\n",
            "Epoch 7/10\n",
            "323/323 [==============================] - 3s 9ms/step - loss: 1.5613 - accuracy: 0.2993\n",
            "Epoch 8/10\n",
            "323/323 [==============================] - 3s 9ms/step - loss: 1.5570 - accuracy: 0.2993\n",
            "Epoch 9/10\n",
            "323/323 [==============================] - 3s 9ms/step - loss: 1.5520 - accuracy: 0.2993\n",
            "Epoch 10/10\n",
            "323/323 [==============================] - 3s 9ms/step - loss: 1.5466 - accuracy: 0.2993\n",
            "162/162 [==============================] - 1s 4ms/step\n",
            "Epoch 1/10\n",
            "323/323 [==============================] - 3s 9ms/step - loss: 1.5091 - accuracy: 0.3814\n",
            "Epoch 2/10\n",
            "323/323 [==============================] - 3s 9ms/step - loss: 1.1316 - accuracy: 0.6625\n",
            "Epoch 3/10\n",
            "323/323 [==============================] - 3s 9ms/step - loss: 0.7292 - accuracy: 0.8150\n",
            "Epoch 4/10\n",
            "323/323 [==============================] - 3s 9ms/step - loss: 0.5231 - accuracy: 0.8779\n",
            "Epoch 5/10\n",
            "323/323 [==============================] - 3s 9ms/step - loss: 0.3931 - accuracy: 0.9119\n",
            "Epoch 6/10\n",
            "323/323 [==============================] - 3s 9ms/step - loss: 0.3084 - accuracy: 0.9301\n",
            "Epoch 7/10\n",
            "323/323 [==============================] - 3s 9ms/step - loss: 0.2446 - accuracy: 0.9454\n",
            "Epoch 8/10\n",
            "323/323 [==============================] - 3s 9ms/step - loss: 0.2055 - accuracy: 0.9535\n",
            "Epoch 9/10\n",
            "323/323 [==============================] - 3s 9ms/step - loss: 0.1707 - accuracy: 0.9617\n",
            "Epoch 10/10\n",
            "323/323 [==============================] - 3s 9ms/step - loss: 0.1459 - accuracy: 0.9696\n",
            "162/162 [==============================] - 1s 4ms/step\n",
            "Epoch 1/10\n",
            "323/323 [==============================] - 3s 9ms/step - loss: 1.5005 - accuracy: 0.3722\n",
            "Epoch 2/10\n",
            "323/323 [==============================] - 3s 9ms/step - loss: 1.1548 - accuracy: 0.6442\n",
            "Epoch 3/10\n",
            "323/323 [==============================] - 3s 9ms/step - loss: 0.7561 - accuracy: 0.8046\n",
            "Epoch 4/10\n",
            "323/323 [==============================] - 3s 9ms/step - loss: 0.5440 - accuracy: 0.8700\n",
            "Epoch 5/10\n",
            "323/323 [==============================] - 3s 9ms/step - loss: 0.4083 - accuracy: 0.9097\n",
            "Epoch 6/10\n",
            "323/323 [==============================] - 3s 9ms/step - loss: 0.3254 - accuracy: 0.9274\n",
            "Epoch 7/10\n",
            "323/323 [==============================] - 3s 9ms/step - loss: 0.2625 - accuracy: 0.9392\n",
            "Epoch 8/10\n",
            "323/323 [==============================] - 3s 9ms/step - loss: 0.2135 - accuracy: 0.9516\n",
            "Epoch 9/10\n",
            "323/323 [==============================] - 3s 9ms/step - loss: 0.1791 - accuracy: 0.9620\n",
            "Epoch 10/10\n",
            "323/323 [==============================] - 3s 9ms/step - loss: 0.1458 - accuracy: 0.9682\n",
            "162/162 [==============================] - 1s 4ms/step\n",
            "Epoch 1/10\n",
            "323/323 [==============================] - 3s 9ms/step - loss: 1.5076 - accuracy: 0.3609\n",
            "Epoch 2/10\n",
            "323/323 [==============================] - 3s 9ms/step - loss: 1.2008 - accuracy: 0.5937\n",
            "Epoch 3/10\n",
            "323/323 [==============================] - 3s 9ms/step - loss: 0.7887 - accuracy: 0.8032\n",
            "Epoch 4/10\n",
            "323/323 [==============================] - 3s 9ms/step - loss: 0.5507 - accuracy: 0.8721\n",
            "Epoch 5/10\n",
            "323/323 [==============================] - 3s 9ms/step - loss: 0.4161 - accuracy: 0.9056\n",
            "Epoch 6/10\n",
            "323/323 [==============================] - 3s 9ms/step - loss: 0.3300 - accuracy: 0.9235\n",
            "Epoch 7/10\n",
            "323/323 [==============================] - 3s 9ms/step - loss: 0.2656 - accuracy: 0.9414\n",
            "Epoch 8/10\n",
            "323/323 [==============================] - 3s 9ms/step - loss: 0.2182 - accuracy: 0.9507\n",
            "Epoch 9/10\n",
            "323/323 [==============================] - 3s 9ms/step - loss: 0.1815 - accuracy: 0.9597\n",
            "Epoch 10/10\n",
            "323/323 [==============================] - 3s 9ms/step - loss: 0.1533 - accuracy: 0.9659\n",
            "162/162 [==============================] - 1s 4ms/step\n",
            "Epoch 1/10\n",
            "323/323 [==============================] - 1s 4ms/step - loss: 1.6101 - accuracy: 0.2655\n",
            "Epoch 2/10\n",
            "323/323 [==============================] - 1s 4ms/step - loss: 1.5984 - accuracy: 0.2787\n",
            "Epoch 3/10\n",
            "323/323 [==============================] - 1s 4ms/step - loss: 1.5892 - accuracy: 0.2847\n",
            "Epoch 4/10\n",
            "323/323 [==============================] - 1s 4ms/step - loss: 1.5869 - accuracy: 0.2894\n",
            "Epoch 5/10\n",
            "323/323 [==============================] - 1s 4ms/step - loss: 1.5872 - accuracy: 0.2880\n",
            "Epoch 6/10\n",
            "323/323 [==============================] - 1s 4ms/step - loss: 1.5783 - accuracy: 0.2886\n",
            "Epoch 7/10\n",
            "323/323 [==============================] - 1s 4ms/step - loss: 1.5791 - accuracy: 0.2916\n",
            "Epoch 8/10\n",
            "323/323 [==============================] - 1s 4ms/step - loss: 1.5763 - accuracy: 0.2886\n",
            "Epoch 9/10\n",
            "323/323 [==============================] - 1s 4ms/step - loss: 1.5711 - accuracy: 0.2911\n",
            "Epoch 10/10\n",
            "323/323 [==============================] - 1s 4ms/step - loss: 1.5677 - accuracy: 0.2908\n",
            "162/162 [==============================] - 0s 2ms/step\n",
            "Epoch 1/10\n",
            "323/323 [==============================] - 1s 4ms/step - loss: 1.5970 - accuracy: 0.2747\n",
            "Epoch 2/10\n",
            "323/323 [==============================] - 1s 4ms/step - loss: 1.5903 - accuracy: 0.2937\n",
            "Epoch 3/10\n",
            "323/323 [==============================] - 1s 4ms/step - loss: 1.5821 - accuracy: 0.2964\n",
            "Epoch 4/10\n",
            "323/323 [==============================] - 1s 4ms/step - loss: 1.5771 - accuracy: 0.2978\n",
            "Epoch 5/10\n",
            "323/323 [==============================] - 1s 4ms/step - loss: 1.5777 - accuracy: 0.2992\n",
            "Epoch 6/10\n",
            "323/323 [==============================] - 1s 4ms/step - loss: 1.5725 - accuracy: 0.2995\n",
            "Epoch 7/10\n",
            "323/323 [==============================] - 1s 4ms/step - loss: 1.5740 - accuracy: 0.2996\n",
            "Epoch 8/10\n",
            "323/323 [==============================] - 1s 4ms/step - loss: 1.5674 - accuracy: 0.2993\n",
            "Epoch 9/10\n",
            "323/323 [==============================] - 1s 4ms/step - loss: 1.5654 - accuracy: 0.2993\n",
            "Epoch 10/10\n",
            "323/323 [==============================] - 1s 4ms/step - loss: 1.5598 - accuracy: 0.2995\n",
            "162/162 [==============================] - 0s 2ms/step\n",
            "Epoch 1/10\n",
            "323/323 [==============================] - 1s 4ms/step - loss: 1.5971 - accuracy: 0.2669\n",
            "Epoch 2/10\n",
            "323/323 [==============================] - 1s 4ms/step - loss: 1.5865 - accuracy: 0.2984\n",
            "Epoch 3/10\n",
            "323/323 [==============================] - 1s 4ms/step - loss: 1.5847 - accuracy: 0.2990\n",
            "Epoch 4/10\n",
            "323/323 [==============================] - 1s 4ms/step - loss: 1.5824 - accuracy: 0.2990\n",
            "Epoch 5/10\n",
            "323/323 [==============================] - 1s 4ms/step - loss: 1.5805 - accuracy: 0.2998\n",
            "Epoch 6/10\n",
            "323/323 [==============================] - 1s 4ms/step - loss: 1.5773 - accuracy: 0.2990\n",
            "Epoch 7/10\n",
            "323/323 [==============================] - 1s 4ms/step - loss: 1.5748 - accuracy: 0.2990\n",
            "Epoch 8/10\n",
            "323/323 [==============================] - 1s 4ms/step - loss: 1.5763 - accuracy: 0.2996\n",
            "Epoch 9/10\n",
            "323/323 [==============================] - 1s 4ms/step - loss: 1.5702 - accuracy: 0.2993\n",
            "Epoch 10/10\n",
            "323/323 [==============================] - 1s 4ms/step - loss: 1.5721 - accuracy: 0.2993\n",
            "162/162 [==============================] - 0s 3ms/step\n",
            "Epoch 1/10\n",
            "323/323 [==============================] - 3s 10ms/step - loss: 1.4527 - accuracy: 0.4623\n",
            "Epoch 2/10\n",
            "323/323 [==============================] - 3s 9ms/step - loss: 1.0906 - accuracy: 0.7433\n",
            "Epoch 3/10\n",
            "323/323 [==============================] - 3s 9ms/step - loss: 0.7948 - accuracy: 0.8303\n",
            "Epoch 4/10\n",
            "323/323 [==============================] - 3s 9ms/step - loss: 0.6304 - accuracy: 0.8682\n",
            "Epoch 5/10\n",
            "323/323 [==============================] - 3s 9ms/step - loss: 0.5187 - accuracy: 0.8950\n",
            "Epoch 6/10\n",
            "323/323 [==============================] - 3s 9ms/step - loss: 0.4505 - accuracy: 0.9063\n",
            "Epoch 7/10\n",
            "323/323 [==============================] - 3s 9ms/step - loss: 0.3944 - accuracy: 0.9206\n",
            "Epoch 8/10\n",
            "323/323 [==============================] - 3s 9ms/step - loss: 0.3444 - accuracy: 0.9321\n",
            "Epoch 9/10\n",
            "323/323 [==============================] - 3s 9ms/step - loss: 0.3078 - accuracy: 0.9383\n",
            "Epoch 10/10\n",
            "323/323 [==============================] - 3s 9ms/step - loss: 0.2790 - accuracy: 0.9440\n",
            "162/162 [==============================] - 1s 4ms/step\n",
            "Epoch 1/10\n",
            "323/323 [==============================] - 3s 9ms/step - loss: 1.4637 - accuracy: 0.4409\n",
            "Epoch 2/10\n",
            "323/323 [==============================] - 3s 9ms/step - loss: 1.1303 - accuracy: 0.7145\n",
            "Epoch 3/10\n",
            "323/323 [==============================] - 3s 8ms/step - loss: 0.8314 - accuracy: 0.8111\n",
            "Epoch 4/10\n",
            "323/323 [==============================] - 3s 9ms/step - loss: 0.6570 - accuracy: 0.8538\n",
            "Epoch 5/10\n",
            "323/323 [==============================] - 3s 9ms/step - loss: 0.5466 - accuracy: 0.8866\n",
            "Epoch 6/10\n",
            "323/323 [==============================] - 3s 9ms/step - loss: 0.4676 - accuracy: 0.9062\n",
            "Epoch 7/10\n",
            "323/323 [==============================] - 3s 8ms/step - loss: 0.4109 - accuracy: 0.9195\n",
            "Epoch 8/10\n",
            "323/323 [==============================] - 3s 9ms/step - loss: 0.3627 - accuracy: 0.9276\n",
            "Epoch 9/10\n",
            "323/323 [==============================] - 3s 8ms/step - loss: 0.3199 - accuracy: 0.9353\n",
            "Epoch 10/10\n",
            "323/323 [==============================] - 3s 9ms/step - loss: 0.2932 - accuracy: 0.9417\n",
            "162/162 [==============================] - 1s 4ms/step\n",
            "Epoch 1/10\n",
            "323/323 [==============================] - 3s 8ms/step - loss: 1.4536 - accuracy: 0.4321\n",
            "Epoch 2/10\n",
            "323/323 [==============================] - 3s 8ms/step - loss: 1.0928 - accuracy: 0.7227\n",
            "Epoch 3/10\n",
            "323/323 [==============================] - 3s 8ms/step - loss: 0.7995 - accuracy: 0.8168\n",
            "Epoch 4/10\n",
            "323/323 [==============================] - 3s 8ms/step - loss: 0.6335 - accuracy: 0.8663\n",
            "Epoch 5/10\n",
            "323/323 [==============================] - 3s 8ms/step - loss: 0.5265 - accuracy: 0.8947\n",
            "Epoch 6/10\n",
            "323/323 [==============================] - 3s 8ms/step - loss: 0.4528 - accuracy: 0.9105\n",
            "Epoch 7/10\n",
            "323/323 [==============================] - 3s 8ms/step - loss: 0.3970 - accuracy: 0.9211\n",
            "Epoch 8/10\n",
            "323/323 [==============================] - 3s 8ms/step - loss: 0.3539 - accuracy: 0.9304\n",
            "Epoch 9/10\n",
            "323/323 [==============================] - 3s 8ms/step - loss: 0.3153 - accuracy: 0.9389\n",
            "Epoch 10/10\n",
            "323/323 [==============================] - 3s 8ms/step - loss: 0.2850 - accuracy: 0.9440\n",
            "162/162 [==============================] - 1s 7ms/step\n",
            "Epoch 1/10\n",
            "323/323 [==============================] - 5s 15ms/step - loss: 1.5945 - accuracy: 0.2768\n",
            "Epoch 2/10\n",
            "323/323 [==============================] - 3s 9ms/step - loss: 1.5931 - accuracy: 0.2872\n",
            "Epoch 3/10\n",
            "323/323 [==============================] - 3s 9ms/step - loss: 1.5925 - accuracy: 0.2880\n",
            "Epoch 4/10\n",
            "323/323 [==============================] - 3s 9ms/step - loss: 1.5872 - accuracy: 0.2894\n",
            "Epoch 5/10\n",
            "323/323 [==============================] - 3s 9ms/step - loss: 1.5902 - accuracy: 0.2894\n",
            "Epoch 6/10\n",
            "323/323 [==============================] - 3s 9ms/step - loss: 1.5898 - accuracy: 0.2894\n",
            "Epoch 7/10\n",
            "323/323 [==============================] - 3s 9ms/step - loss: 1.5903 - accuracy: 0.2894\n",
            "Epoch 00007: early stopping\n",
            "162/162 [==============================] - 1s 4ms/step\n",
            "Epoch 1/10\n",
            "323/323 [==============================] - 3s 9ms/step - loss: 1.5893 - accuracy: 0.2840\n",
            "Epoch 2/10\n",
            "323/323 [==============================] - 3s 9ms/step - loss: 1.5852 - accuracy: 0.2990\n",
            "Epoch 3/10\n",
            "323/323 [==============================] - 3s 9ms/step - loss: 1.5816 - accuracy: 0.2990\n",
            "Epoch 4/10\n",
            "323/323 [==============================] - 3s 9ms/step - loss: 1.5834 - accuracy: 0.2990\n",
            "Epoch 5/10\n",
            "323/323 [==============================] - 3s 9ms/step - loss: 1.5815 - accuracy: 0.2990\n",
            "Epoch 6/10\n",
            "323/323 [==============================] - 3s 9ms/step - loss: 1.5816 - accuracy: 0.2990\n",
            "Epoch 7/10\n",
            "323/323 [==============================] - 3s 9ms/step - loss: 1.5812 - accuracy: 0.2990\n",
            "Epoch 8/10\n",
            "323/323 [==============================] - 3s 9ms/step - loss: 1.5812 - accuracy: 0.2990\n",
            "Epoch 9/10\n",
            "323/323 [==============================] - 3s 9ms/step - loss: 1.5813 - accuracy: 0.2990\n",
            "Epoch 10/10\n",
            "323/323 [==============================] - 3s 9ms/step - loss: 1.5804 - accuracy: 0.2990\n",
            "162/162 [==============================] - 1s 4ms/step\n",
            "Epoch 1/10\n",
            "323/323 [==============================] - 3s 9ms/step - loss: 1.5872 - accuracy: 0.2933\n",
            "Epoch 2/10\n",
            "323/323 [==============================] - 3s 9ms/step - loss: 1.5841 - accuracy: 0.2989\n",
            "Epoch 3/10\n",
            "323/323 [==============================] - 3s 9ms/step - loss: 1.5837 - accuracy: 0.2993\n",
            "Epoch 4/10\n",
            "323/323 [==============================] - 3s 9ms/step - loss: 1.5810 - accuracy: 0.2992\n",
            "Epoch 5/10\n",
            "323/323 [==============================] - 3s 9ms/step - loss: 1.5846 - accuracy: 0.2993\n",
            "Epoch 6/10\n",
            "323/323 [==============================] - 3s 9ms/step - loss: 1.5825 - accuracy: 0.2993\n",
            "Epoch 7/10\n",
            "323/323 [==============================] - 3s 9ms/step - loss: 1.5823 - accuracy: 0.2993\n",
            "Epoch 00007: early stopping\n",
            "162/162 [==============================] - 1s 4ms/step\n",
            "Epoch 1/10\n",
            "323/323 [==============================] - 1s 3ms/step - loss: 1.4528 - accuracy: 0.4496\n",
            "Epoch 2/10\n",
            "323/323 [==============================] - 1s 4ms/step - loss: 1.0866 - accuracy: 0.7377\n",
            "Epoch 3/10\n",
            "323/323 [==============================] - 1s 3ms/step - loss: 0.7821 - accuracy: 0.8299\n",
            "Epoch 4/10\n",
            "323/323 [==============================] - 1s 3ms/step - loss: 0.6164 - accuracy: 0.8731\n",
            "Epoch 5/10\n",
            "323/323 [==============================] - 1s 3ms/step - loss: 0.5094 - accuracy: 0.8993\n",
            "Epoch 6/10\n",
            "323/323 [==============================] - 1s 3ms/step - loss: 0.4339 - accuracy: 0.9147\n",
            "Epoch 7/10\n",
            "323/323 [==============================] - 1s 3ms/step - loss: 0.3791 - accuracy: 0.9246\n",
            "Epoch 8/10\n",
            "323/323 [==============================] - 1s 3ms/step - loss: 0.3334 - accuracy: 0.9350\n",
            "Epoch 9/10\n",
            "323/323 [==============================] - 1s 3ms/step - loss: 0.2971 - accuracy: 0.9411\n",
            "Epoch 10/10\n",
            "323/323 [==============================] - 1s 4ms/step - loss: 0.2681 - accuracy: 0.9460\n",
            "162/162 [==============================] - 0s 2ms/step\n",
            "Epoch 1/10\n",
            "323/323 [==============================] - 1s 4ms/step - loss: 1.4311 - accuracy: 0.4493\n",
            "Epoch 2/10\n",
            "323/323 [==============================] - 1s 4ms/step - loss: 1.0585 - accuracy: 0.7328\n",
            "Epoch 3/10\n",
            "323/323 [==============================] - 1s 4ms/step - loss: 0.7645 - accuracy: 0.8292\n",
            "Epoch 4/10\n",
            "323/323 [==============================] - 1s 4ms/step - loss: 0.6091 - accuracy: 0.8703\n",
            "Epoch 5/10\n",
            "323/323 [==============================] - 1s 4ms/step - loss: 0.5054 - accuracy: 0.8961\n",
            "Epoch 6/10\n",
            "323/323 [==============================] - 1s 4ms/step - loss: 0.4311 - accuracy: 0.9198\n",
            "Epoch 7/10\n",
            "323/323 [==============================] - 1s 4ms/step - loss: 0.3775 - accuracy: 0.9260\n",
            "Epoch 8/10\n",
            "323/323 [==============================] - 1s 4ms/step - loss: 0.3344 - accuracy: 0.9333\n",
            "Epoch 9/10\n",
            "323/323 [==============================] - 1s 4ms/step - loss: 0.3004 - accuracy: 0.9401\n",
            "Epoch 10/10\n",
            "323/323 [==============================] - 1s 4ms/step - loss: 0.2708 - accuracy: 0.9473\n",
            "162/162 [==============================] - 0s 2ms/step\n",
            "Epoch 1/10\n",
            "323/323 [==============================] - 1s 3ms/step - loss: 1.4587 - accuracy: 0.4721\n",
            "Epoch 2/10\n",
            "323/323 [==============================] - 1s 3ms/step - loss: 1.0919 - accuracy: 0.7311\n",
            "Epoch 3/10\n",
            "323/323 [==============================] - 1s 3ms/step - loss: 0.7949 - accuracy: 0.8230\n",
            "Epoch 4/10\n",
            "323/323 [==============================] - 1s 3ms/step - loss: 0.6261 - accuracy: 0.8677\n",
            "Epoch 5/10\n",
            "323/323 [==============================] - 1s 3ms/step - loss: 0.5206 - accuracy: 0.8910\n",
            "Epoch 6/10\n",
            "323/323 [==============================] - 1s 3ms/step - loss: 0.4457 - accuracy: 0.9122\n",
            "Epoch 7/10\n",
            "323/323 [==============================] - 1s 3ms/step - loss: 0.3911 - accuracy: 0.9251\n",
            "Epoch 8/10\n",
            "323/323 [==============================] - 1s 4ms/step - loss: 0.3475 - accuracy: 0.9327\n",
            "Epoch 9/10\n",
            "323/323 [==============================] - 1s 4ms/step - loss: 0.3107 - accuracy: 0.9380\n",
            "Epoch 10/10\n",
            "323/323 [==============================] - 1s 3ms/step - loss: 0.2800 - accuracy: 0.9439\n",
            "162/162 [==============================] - 0s 2ms/step\n",
            "Epoch 1/10\n",
            "323/323 [==============================] - 1s 4ms/step - loss: 1.5925 - accuracy: 0.2829\n",
            "Epoch 2/10\n",
            "323/323 [==============================] - 1s 3ms/step - loss: 1.5896 - accuracy: 0.2892\n",
            "Epoch 3/10\n",
            "323/323 [==============================] - 1s 3ms/step - loss: 1.5893 - accuracy: 0.2892\n",
            "Epoch 4/10\n",
            "323/323 [==============================] - 1s 3ms/step - loss: 1.5868 - accuracy: 0.2894\n",
            "Epoch 5/10\n",
            "323/323 [==============================] - 1s 3ms/step - loss: 1.5884 - accuracy: 0.2894\n",
            "Epoch 6/10\n",
            "323/323 [==============================] - 1s 4ms/step - loss: 1.5857 - accuracy: 0.2894\n",
            "Epoch 7/10\n",
            "323/323 [==============================] - 1s 3ms/step - loss: 1.5863 - accuracy: 0.2894\n",
            "Epoch 8/10\n",
            "323/323 [==============================] - 1s 3ms/step - loss: 1.5869 - accuracy: 0.2894\n",
            "Epoch 9/10\n",
            "323/323 [==============================] - 1s 3ms/step - loss: 1.5857 - accuracy: 0.2894\n",
            "Epoch 10/10\n",
            "323/323 [==============================] - 1s 3ms/step - loss: 1.5861 - accuracy: 0.2894\n",
            "162/162 [==============================] - 0s 2ms/step\n",
            "Epoch 1/10\n",
            "323/323 [==============================] - 1s 3ms/step - loss: 1.5844 - accuracy: 0.2992\n",
            "Epoch 2/10\n",
            "323/323 [==============================] - 1s 3ms/step - loss: 1.5808 - accuracy: 0.2990\n",
            "Epoch 3/10\n",
            "323/323 [==============================] - 1s 4ms/step - loss: 1.5808 - accuracy: 0.2990\n",
            "Epoch 4/10\n",
            "323/323 [==============================] - 1s 3ms/step - loss: 1.5799 - accuracy: 0.2990\n",
            "Epoch 5/10\n",
            "323/323 [==============================] - 1s 3ms/step - loss: 1.5777 - accuracy: 0.2990\n",
            "Epoch 6/10\n",
            "323/323 [==============================] - 1s 4ms/step - loss: 1.5797 - accuracy: 0.2990\n",
            "Epoch 7/10\n",
            "323/323 [==============================] - 1s 4ms/step - loss: 1.5791 - accuracy: 0.2990\n",
            "Epoch 8/10\n",
            "323/323 [==============================] - 1s 4ms/step - loss: 1.5799 - accuracy: 0.2990\n",
            "Epoch 00008: early stopping\n",
            "162/162 [==============================] - 0s 2ms/step\n",
            "Epoch 1/10\n",
            "323/323 [==============================] - 1s 3ms/step - loss: 1.5873 - accuracy: 0.2945\n",
            "Epoch 2/10\n",
            "323/323 [==============================] - 1s 4ms/step - loss: 1.5848 - accuracy: 0.2985\n",
            "Epoch 3/10\n",
            "323/323 [==============================] - 1s 3ms/step - loss: 1.5830 - accuracy: 0.2992\n",
            "Epoch 4/10\n",
            "323/323 [==============================] - 1s 4ms/step - loss: 1.5821 - accuracy: 0.2993\n",
            "Epoch 5/10\n",
            "323/323 [==============================] - 1s 4ms/step - loss: 1.5798 - accuracy: 0.2993\n",
            "Epoch 6/10\n",
            "323/323 [==============================] - 1s 4ms/step - loss: 1.5820 - accuracy: 0.2995\n",
            "Epoch 7/10\n",
            "323/323 [==============================] - 1s 3ms/step - loss: 1.5790 - accuracy: 0.2993\n",
            "Epoch 8/10\n",
            "323/323 [==============================] - 1s 3ms/step - loss: 1.5794 - accuracy: 0.2993\n",
            "Epoch 9/10\n",
            "323/323 [==============================] - 1s 4ms/step - loss: 1.5821 - accuracy: 0.2993\n",
            "Epoch 10/10\n",
            "323/323 [==============================] - 1s 4ms/step - loss: 1.5812 - accuracy: 0.2993\n",
            "Epoch 00010: early stopping\n",
            "162/162 [==============================] - 0s 2ms/step\n",
            "Epoch 1/10\n",
            "323/323 [==============================] - 2s 7ms/step - loss: 1.5925 - accuracy: 0.2824\n",
            "Epoch 2/10\n",
            "323/323 [==============================] - 2s 7ms/step - loss: 1.5867 - accuracy: 0.2894\n",
            "Epoch 3/10\n",
            "323/323 [==============================] - 2s 7ms/step - loss: 1.5845 - accuracy: 0.2894\n",
            "Epoch 4/10\n",
            "323/323 [==============================] - 2s 7ms/step - loss: 1.5822 - accuracy: 0.2894\n",
            "Epoch 5/10\n",
            "323/323 [==============================] - 2s 7ms/step - loss: 1.5812 - accuracy: 0.2894\n",
            "Epoch 6/10\n",
            "323/323 [==============================] - 2s 7ms/step - loss: 1.5812 - accuracy: 0.2894\n",
            "Epoch 7/10\n",
            "323/323 [==============================] - 2s 7ms/step - loss: 1.5790 - accuracy: 0.2894\n",
            "Epoch 8/10\n",
            "323/323 [==============================] - 2s 7ms/step - loss: 1.5775 - accuracy: 0.2894\n",
            "Epoch 9/10\n",
            "323/323 [==============================] - 2s 7ms/step - loss: 1.5755 - accuracy: 0.2894\n",
            "Epoch 10/10\n",
            "323/323 [==============================] - 2s 7ms/step - loss: 1.5723 - accuracy: 0.2894\n",
            "162/162 [==============================] - 1s 3ms/step\n",
            "Epoch 1/10\n",
            "323/323 [==============================] - 2s 7ms/step - loss: 1.5847 - accuracy: 0.2928\n",
            "Epoch 2/10\n",
            "323/323 [==============================] - 2s 7ms/step - loss: 1.5790 - accuracy: 0.2990\n",
            "Epoch 3/10\n",
            "323/323 [==============================] - 2s 7ms/step - loss: 1.5763 - accuracy: 0.2990\n",
            "Epoch 4/10\n",
            "323/323 [==============================] - 2s 7ms/step - loss: 1.5758 - accuracy: 0.2990\n",
            "Epoch 5/10\n",
            "323/323 [==============================] - 2s 7ms/step - loss: 1.5735 - accuracy: 0.2990\n",
            "Epoch 6/10\n",
            "323/323 [==============================] - 2s 7ms/step - loss: 1.5701 - accuracy: 0.2990\n",
            "Epoch 7/10\n",
            "323/323 [==============================] - 2s 7ms/step - loss: 1.5708 - accuracy: 0.2990\n",
            "Epoch 8/10\n",
            "323/323 [==============================] - 4s 11ms/step - loss: 1.5693 - accuracy: 0.2990\n",
            "Epoch 9/10\n",
            "323/323 [==============================] - 2s 7ms/step - loss: 1.5645 - accuracy: 0.2990\n",
            "Epoch 10/10\n",
            "323/323 [==============================] - 2s 7ms/step - loss: 1.5640 - accuracy: 0.2990\n",
            "162/162 [==============================] - 1s 3ms/step\n",
            "Epoch 1/10\n",
            "323/323 [==============================] - 2s 7ms/step - loss: 1.5866 - accuracy: 0.2897\n",
            "Epoch 2/10\n",
            "323/323 [==============================] - 2s 7ms/step - loss: 1.5816 - accuracy: 0.2993\n",
            "Epoch 3/10\n",
            "323/323 [==============================] - 2s 7ms/step - loss: 1.5797 - accuracy: 0.2993\n",
            "Epoch 4/10\n",
            "323/323 [==============================] - 2s 7ms/step - loss: 1.5779 - accuracy: 0.2993\n",
            "Epoch 5/10\n",
            "323/323 [==============================] - 2s 7ms/step - loss: 1.5749 - accuracy: 0.2993\n",
            "Epoch 6/10\n",
            "323/323 [==============================] - 2s 7ms/step - loss: 1.5735 - accuracy: 0.2993\n",
            "Epoch 7/10\n",
            "323/323 [==============================] - 2s 7ms/step - loss: 1.5712 - accuracy: 0.2993\n",
            "Epoch 8/10\n",
            "323/323 [==============================] - 2s 7ms/step - loss: 1.5703 - accuracy: 0.2993\n",
            "Epoch 9/10\n",
            "323/323 [==============================] - 2s 7ms/step - loss: 1.5674 - accuracy: 0.2993\n",
            "Epoch 10/10\n",
            "323/323 [==============================] - 2s 7ms/step - loss: 1.5642 - accuracy: 0.2993\n",
            "162/162 [==============================] - 0s 3ms/step\n"
          ],
          "name": "stdout"
        },
        {
          "output_type": "stream",
          "text": [
            "[Parallel(n_jobs=1)]: Done  30 out of  30 | elapsed: 11.2min finished\n"
          ],
          "name": "stderr"
        },
        {
          "output_type": "stream",
          "text": [
            "Epoch 1/10\n",
            "484/484 [==============================] - 4s 9ms/step - loss: 1.4302 - accuracy: 0.4187\n",
            "Epoch 2/10\n",
            "484/484 [==============================] - 4s 9ms/step - loss: 0.8651 - accuracy: 0.7731\n",
            "Epoch 3/10\n",
            "484/484 [==============================] - 4s 9ms/step - loss: 0.5244 - accuracy: 0.8738\n",
            "Epoch 4/10\n",
            "484/484 [==============================] - 4s 9ms/step - loss: 0.3678 - accuracy: 0.9149\n",
            "Epoch 5/10\n",
            "484/484 [==============================] - 4s 9ms/step - loss: 0.2729 - accuracy: 0.9353\n",
            "Epoch 6/10\n",
            "484/484 [==============================] - 4s 9ms/step - loss: 0.2123 - accuracy: 0.9476\n",
            "Epoch 7/10\n",
            "484/484 [==============================] - 4s 9ms/step - loss: 0.1712 - accuracy: 0.9608\n",
            "Epoch 8/10\n",
            "484/484 [==============================] - 4s 9ms/step - loss: 0.1385 - accuracy: 0.9687\n",
            "Epoch 9/10\n",
            "484/484 [==============================] - 4s 9ms/step - loss: 0.1128 - accuracy: 0.9761\n",
            "Epoch 10/10\n",
            "484/484 [==============================] - 4s 9ms/step - loss: 0.0947 - accuracy: 0.9796\n"
          ],
          "name": "stdout"
        },
        {
          "output_type": "execute_result",
          "data": {
            "text/plain": [
              "Pipeline(memory=None,\n",
              "         steps=[('transformacion',\n",
              "                 CountVectorizer(analyzer='word', binary=False,\n",
              "                                 decode_error='strict',\n",
              "                                 dtype=<class 'numpy.int64'>, encoding='utf-8',\n",
              "                                 input='content', lowercase=True, max_df=1.0,\n",
              "                                 max_features=5000, min_df=1,\n",
              "                                 ngram_range=(1, 1), preprocessor=None,\n",
              "                                 stop_words=None, strip_accents=None,\n",
              "                                 token_pattern='(?u)\\\\b\\\\w\\\\w+\\\\b',\n",
              "                                 tokenizer=None, vocabulary=None)),\n",
              "                ('matriz', <__main__.toArray object at 0x7efd0ad89dd8>),\n",
              "                ('red_neuronal',\n",
              "                 <keras.wrappers.scikit_learn.KerasClassifier object at 0x7efd0ad89d68>)],\n",
              "         verbose=False)"
            ]
          },
          "metadata": {
            "tags": []
          },
          "execution_count": 32
        }
      ]
    },
    {
      "cell_type": "markdown",
      "metadata": {
        "id": "FhSNjC0ZMwUi",
        "colab_type": "text"
      },
      "source": [
        "# 4. Validación"
      ]
    },
    {
      "cell_type": "code",
      "metadata": {
        "id": "WRKrGKq6spTK",
        "colab_type": "code",
        "colab": {
          "base_uri": "https://localhost:8080/",
          "height": 180
        },
        "outputId": "caf6057e-c584-439f-93a0-7fde135eb903"
      },
      "source": [
        "score = best_model.evaluate(X_test, y_test, verbose=1)\n",
        "print('Test loss: {:4f}\\nTest Accuracy: {:4f}'.format(score[0], score[1]))"
      ],
      "execution_count": 33,
      "outputs": [
        {
          "output_type": "error",
          "ename": "AttributeError",
          "evalue": "ignored",
          "traceback": [
            "\u001b[0;31m---------------------------------------------------------------------------\u001b[0m",
            "\u001b[0;31mAttributeError\u001b[0m                            Traceback (most recent call last)",
            "\u001b[0;32m<ipython-input-33-a409e134a44e>\u001b[0m in \u001b[0;36m<module>\u001b[0;34m()\u001b[0m\n\u001b[0;32m----> 1\u001b[0;31m \u001b[0mscore\u001b[0m \u001b[0;34m=\u001b[0m \u001b[0mbest_model\u001b[0m\u001b[0;34m.\u001b[0m\u001b[0mevaluate\u001b[0m\u001b[0;34m(\u001b[0m\u001b[0mX_test\u001b[0m\u001b[0;34m,\u001b[0m \u001b[0my_test\u001b[0m\u001b[0;34m,\u001b[0m \u001b[0mverbose\u001b[0m\u001b[0;34m=\u001b[0m\u001b[0;36m1\u001b[0m\u001b[0;34m)\u001b[0m\u001b[0;34m\u001b[0m\u001b[0;34m\u001b[0m\u001b[0m\n\u001b[0m\u001b[1;32m      2\u001b[0m \u001b[0mprint\u001b[0m\u001b[0;34m(\u001b[0m\u001b[0;34m'Test loss: {:4f}\\nTest Accuracy: {:4f}'\u001b[0m\u001b[0;34m.\u001b[0m\u001b[0mformat\u001b[0m\u001b[0;34m(\u001b[0m\u001b[0mscore\u001b[0m\u001b[0;34m[\u001b[0m\u001b[0;36m0\u001b[0m\u001b[0;34m]\u001b[0m\u001b[0;34m,\u001b[0m \u001b[0mscore\u001b[0m\u001b[0;34m[\u001b[0m\u001b[0;36m1\u001b[0m\u001b[0;34m]\u001b[0m\u001b[0;34m)\u001b[0m\u001b[0;34m)\u001b[0m\u001b[0;34m\u001b[0m\u001b[0;34m\u001b[0m\u001b[0m\n",
            "\u001b[0;31mAttributeError\u001b[0m: 'Pipeline' object has no attribute 'evaluate'"
          ]
        }
      ]
    },
    {
      "cell_type": "code",
      "metadata": {
        "id": "-NtpmcdJsqjz",
        "colab_type": "code",
        "colab": {
          "base_uri": "https://localhost:8080/",
          "height": 51
        },
        "outputId": "980d85db-d1b5-432b-dfbe-9793c5fa582b"
      },
      "source": [
        "y_pred = best_model.predict(X_test)\n",
        "y_pred"
      ],
      "execution_count": 36,
      "outputs": [
        {
          "output_type": "stream",
          "text": [
            "121/121 [==============================] - 1s 4ms/step\n"
          ],
          "name": "stdout"
        },
        {
          "output_type": "execute_result",
          "data": {
            "text/plain": [
              "array([0, 0, 1, ..., 4, 2, 2])"
            ]
          },
          "metadata": {
            "tags": []
          },
          "execution_count": 36
        }
      ]
    },
    {
      "cell_type": "code",
      "metadata": {
        "id": "kGqoBcsgJjlJ",
        "colab_type": "code",
        "colab": {}
      },
      "source": [
        "y_real = []\n",
        "for val in y_test:\n",
        "  val = list(val)\n",
        "  y_real.append(val.index(1))"
      ],
      "execution_count": 41,
      "outputs": []
    },
    {
      "cell_type": "code",
      "metadata": {
        "id": "jXGs47LFKErS",
        "colab_type": "code",
        "colab": {
          "base_uri": "https://localhost:8080/",
          "height": 34
        },
        "outputId": "e59ec0f1-0833-42c1-f0be-4e95f14dd8e5"
      },
      "source": [
        "y_real[0:10]"
      ],
      "execution_count": 44,
      "outputs": [
        {
          "output_type": "execute_result",
          "data": {
            "text/plain": [
              "[0, 0, 1, 0, 0, 0, 1, 0, 0, 2]"
            ]
          },
          "metadata": {
            "tags": []
          },
          "execution_count": 44
        }
      ]
    },
    {
      "cell_type": "code",
      "metadata": {
        "id": "NdDpBodRsxFu",
        "colab_type": "code",
        "colab": {
          "base_uri": "https://localhost:8080/",
          "height": 238
        },
        "outputId": "e21d76fe-fffd-4813-b4e5-02879b317729"
      },
      "source": [
        "print('Reporte para el modelo construido')\n",
        "print(classification_report(y_real, y_pred, target_names=y.columns))"
      ],
      "execution_count": 46,
      "outputs": [
        {
          "output_type": "stream",
          "text": [
            "Reporte para el modelo construido\n",
            "               precision    recall  f1-score   support\n",
            "\n",
            "     business       0.95      0.97      0.96       778\n",
            "entertainment       0.94      0.90      0.92       348\n",
            "     politics       0.93      0.91      0.92       396\n",
            "        sport       0.93      0.97      0.95       447\n",
            "         tech       0.96      0.92      0.94       449\n",
            "\n",
            "     accuracy                           0.94      2418\n",
            "    macro avg       0.94      0.93      0.94      2418\n",
            " weighted avg       0.94      0.94      0.94      2418\n",
            "\n"
          ],
          "name": "stdout"
        }
      ]
    },
    {
      "cell_type": "code",
      "metadata": {
        "id": "NRrjHuOfs2IB",
        "colab_type": "code",
        "colab": {
          "base_uri": "https://localhost:8080/",
          "height": 519
        },
        "outputId": "d20e5764-a2a8-4832-cb34-08e8e9a2412c"
      },
      "source": [
        "import seaborn as sns; sns.set()\n",
        "\n",
        "plt.figure(figsize=(8,8))\n",
        "mat = confusion_matrix(y_real, y_pred)\n",
        "sns.heatmap(mat.T, square=True, annot=True, cmap='Blues',fmt='d', cbar=False,\n",
        "            xticklabels=y.columns,\n",
        "            yticklabels=y.columns)\n",
        "plt.xlabel('true label')\n",
        "plt.ylabel('predicted label')"
      ],
      "execution_count": 47,
      "outputs": [
        {
          "output_type": "execute_result",
          "data": {
            "text/plain": [
              "Text(54.26, 0.5, 'predicted label')"
            ]
          },
          "metadata": {
            "tags": []
          },
          "execution_count": 47
        },
        {
          "output_type": "display_data",
          "data": {
            "image/png": "[encoded data removed]",
            "text/plain": [
              "<Figure size 576x576 with 1 Axes>"
            ]
          },
          "metadata": {
            "tags": []
          }
        }
      ]
    },
    {
      "cell_type": "code",
      "metadata": {
        "id": "GB_mTQpzs7UB",
        "colab_type": "code",
        "colab": {}
      },
      "source": [
        "plt.plot(history.history['loss'], label='Training loss')\n",
        "plt.title('Training and validation loss')\n",
        "plt.xlabel('Epochs')\n",
        "plt.ylabel('Loss')\n",
        "plt.legend()\n",
        "plt.show()"
      ],
      "execution_count": null,
      "outputs": []
    },
    {
      "cell_type": "code",
      "metadata": {
        "id": "nflhj78vs-oQ",
        "colab_type": "code",
        "colab": {}
      },
      "source": [
        "plt.plot(history.history['accuracy'], label='Training accuracy')\n",
        "plt.title('Training and validation accuracy')\n",
        "plt.xlabel('Epochs')\n",
        "plt.ylabel('Accuracy')\n",
        "plt.legend()\n",
        "plt.show()"
      ],
      "execution_count": null,
      "outputs": []
    },
    {
      "cell_type": "markdown",
      "metadata": {
        "id": "TZo3elC8tf26",
        "colab_type": "text"
      },
      "source": [
        "### Comparación con resultados previos"
      ]
    },
    {
      "cell_type": "markdown",
      "metadata": {
        "id": "uIoZHsWotirE",
        "colab_type": "text"
      },
      "source": [
        "Comparando con los valores que se obtuvieron al implementar Naive-Bayes multinomial son abruptamente diferentes para el caso de la Red Multicapa Perceptrón sin ningún tipo de optimización de parámetros. Pues, podemos ver que el accuracy logrado con Bayes fue de 0.98, mientras que con la red es de 0.33."
      ]
    },
    {
      "cell_type": "markdown",
      "metadata": {
        "id": "SgrHjHVPtd6R",
        "colab_type": "text"
      },
      "source": [
        "![image.png](data:image/png;base64,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)"
      ]
    }
  ]
}